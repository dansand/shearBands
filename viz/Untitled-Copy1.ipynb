{
 "cells": [
  {
   "cell_type": "code",
   "execution_count": 1,
   "metadata": {
    "collapsed": false,
    "deletable": true,
    "editable": true
   },
   "outputs": [
    {
     "name": "stdout",
     "output_type": "stream",
     "text": [
      "Populating the interactive namespace from numpy and matplotlib\n"
     ]
    }
   ],
   "source": [
    "import natsort\n",
    "import glob\n",
    "import numpy as np\n",
    "import pandas as pd\n",
    "#import seaborn as sns\n",
    "%pylab inline"
   ]
  },
  {
   "cell_type": "code",
   "execution_count": 2,
   "metadata": {
    "collapsed": false,
    "deletable": true,
    "editable": true
   },
   "outputs": [],
   "source": [
    "#glob.glob('underworld2/results/A/**/metrics.csv'), glob.glob('underworld2/results/A/**/solver.csv')\n",
    "#glob.glob('underworld2/results/C/**/*.csv')"
   ]
  },
  {
   "cell_type": "code",
   "execution_count": 3,
   "metadata": {
    "collapsed": false,
    "deletable": true,
    "editable": true
   },
   "outputs": [
    {
     "name": "stdout",
     "output_type": "stream",
     "text": [
      "one two\n",
      "      test\n",
      "test      \n",
      "1 2\n",
      "2 1\n",
      "42\n",
      "3.141593\n",
      " 3.14\n",
      "03.14\n",
      "one 03.14\n"
     ]
    }
   ],
   "source": [
    "## String formatting\n",
    "print('{} {}'.format('one', 'two'))\n",
    "\n",
    "#By default values are formatted to take up only as many characters as needed to represent the content. \n",
    "#It is however also possible to define that a value should be padded to a specific length.\n",
    "print('{:>10}'.format('test'))\n",
    "print('{:10}'.format('test'))\n",
    "\n",
    "#numbers\n",
    "print('{} {}'.format(1, 2))\n",
    "\n",
    "print('{1} {0}'.format(1, 2))\n",
    "\n",
    "print('{:d}'.format(42))\n",
    "\n",
    "print('{:f}'.format(3.141592653589793))\n",
    "\n",
    "#For floating points the padding value represents the length of the complete output. \n",
    "#In the example below we want our output to have at least 6 characters with 2 after the decimal point.\n",
    "print('{:5.2f}'.format(3.141592653589793))\n",
    "\n",
    "print('{:05.2f}'.format(3.141592653589793))\n",
    "\n",
    "#combining\n",
    "\n",
    "print('{} {:05.2f}'.format('one', 3.141592653589793))"
   ]
  },
  {
   "cell_type": "code",
   "execution_count": 4,
   "metadata": {
    "collapsed": true,
    "deletable": true,
    "editable": true
   },
   "outputs": [],
   "source": [
    "mHeaders = ['rmsint', 'shearArea' ,'shearPressure', 'backgroundArea', 'backgroundPressure', \n",
    "            'viscmin', 'viscmax', 'eiimin', 'eiimax', 'angle', 'vdint', 'shearVd', 'backgroundVd', 'pressmin', 'pressmax' ]\n",
    "\n",
    "pHeaders = ['U0','a','asthenosphere','cohesion','depth','eta1','eta2','etaMin','fa','g','notchWidth','rho']"
   ]
  },
  {
   "cell_type": "code",
   "execution_count": 5,
   "metadata": {
    "collapsed": false,
    "deletable": true,
    "editable": true
   },
   "outputs": [],
   "source": [
    "#natsort.natsort(glob.glob('../underworld2/results/A/**/metrics.csv'))"
   ]
  },
  {
   "cell_type": "code",
   "execution_count": 46,
   "metadata": {
    "collapsed": true,
    "deletable": true,
    "editable": true
   },
   "outputs": [],
   "source": [
    "def get_data(path1, path2):\n",
    "    data = []\n",
    "    params = []\n",
    "    metricFiles = natsort.natsort(glob.glob(path1))\n",
    "    paramFiles = natsort.natsort(glob.glob(path2))\n",
    "    print(len(metricFiles))\n",
    "    \n",
    "    for i in range(len(metricFiles)):\n",
    "        d = pd.read_csv(metricFiles[i], header=None)\n",
    "        d.columns = mHeaders\n",
    "        p = pd.read_csv(paramFiles[i], header=None, skip_footer=1)\n",
    "        #p.columns = pHeaders \n",
    "        data.append(d)\n",
    "        params.append(p)\n",
    "\n",
    "    return data, params\n"
   ]
  },
  {
   "cell_type": "code",
   "execution_count": 47,
   "metadata": {
    "collapsed": false,
    "deletable": true,
    "editable": true
   },
   "outputs": [
    {
     "name": "stdout",
     "output_type": "stream",
     "text": [
      "6\n",
      "6\n",
      "6\n",
      "27\n"
     ]
    },
    {
     "name": "stderr",
     "output_type": "stream",
     "text": [
      "/usr/local/lib/python2.7/dist-packages/ipykernel/__main__.py:11: FutureWarning: The 'skip_footer' argument has been deprecated and will be removed in a future version. Please use the 'skipfooter' argument instead.\n",
      "/usr/local/lib/python2.7/dist-packages/ipykernel/__main__.py:11: ParserWarning: Falling back to the 'python' engine because the 'c' engine does not support skipfooter; you can avoid this warning by specifying engine='python'.\n"
     ]
    },
    {
     "name": "stdout",
     "output_type": "stream",
     "text": [
      "30\n"
     ]
    }
   ],
   "source": [
    "dataA, paramsA = get_data('../underworld2/results/A/**/metrics.csv', '../underworld2/results/A/**/params.csv')\n",
    "dataB, paramsB = get_data('../underworld2/results/B/**/metrics.csv', '../underworld2/results/B/**/params.csv')\n",
    "dataC, paramsC = get_data('../underworld2/results/C/**/metrics.csv', '../underworld2/results/C/**/params.csv')\n",
    "dataD, paramsD = get_data('../underworld2/results/D/**/metrics.csv', '../underworld2/results/D/**/params.csv')\n",
    "dataE, paramsE = get_data('../underworld2/results/E/**/metrics.csv', '../underworld2/results/E/**/params.csv')\n",
    "#\n"
   ]
  },
  {
   "cell_type": "markdown",
   "metadata": {
    "deletable": true,
    "editable": true
   },
   "source": [
    "```\n",
    "counter=1\n",
    "c=1.0\n",
    "for a in 1.0 0.8 0.6 0.4 0.2 0.1\n",
    "do\n",
    "   b=$(echo \"$c/$a\" | bc -l)\n",
    "   docker run -v $PWD:/workspace  -i -t --rm dansand/underworld2-dev mpirun -np 16 python isotropic.py A $counter md.res=96 dp.eta1*=$a dp.eta2*=$a dp.U0*=$b\n",
    "   #docker run -v $PWD:/workspace  -i -t --rm dansand/underworld2-dev mpirun -np 16 python isotropic.py B $counter md.res=96 dp.eta1*=$a dp.eta2*=1. dp.U0*=$b\n",
    "   #docker run -v $PWD:/workspace  -i -t --rm dansand/underworld2-dev mpirun -np 16 python isotropic.py C $counter md.res=96 dp.eta1*=1.0 dp.eta2*=$a dp.U0*=1.0\n",
    "   #echo $a $b\n",
    "   let counter=counter+1\n",
    "done\n",
    "\n",
    "```\n",
    "\n",
    "```\n",
    "counter=1\n",
    "c=1.0\n",
    "for a in 0.5 1.0 2.0\n",
    "do\n",
    "   for b in 0.1 1.0 10.0\n",
    "   do\n",
    "      for c in 48 64 96\n",
    "      do\n",
    "         docker run -v $PWD:/workspace  -i -t --rm dansand/underworld2-dev mpirun -np 16 python isotropic.py D $counter dp.notchWidth*=$a md.res=$c dp.eta2*=$b\n",
    "         #echo $counter $a $b $c\n",
    "         let counter=counter+1\n",
    "      done\n",
    "   done\n",
    "done\n",
    "\n",
    "\n",
    "#b=$(echo \"$c/$a\" | bc -l)\n",
    "```\n",
    "\n",
    "```\n",
    "counter=1\n",
    "c=1.0\n",
    "for a in 0.5 1.0 2.0\n",
    "do\n",
    "   for b in 0.0 10.0 20.0 30.0 40.0\n",
    "   do\n",
    "      for c in 64 96\n",
    "      do\n",
    "         #docker run -v $PWD:/workspace  -i -t --rm dansand/underworld2-dev mpirun -np 16 python isotropic.py E $counter dp.notchWidth*=$a md.res=$c dp.fa*=$b\n",
    "         echo $counter $a $b $c\n",
    "         let counter=counter+1\n",
    "      done\n",
    "   done\n",
    "done\n",
    "\n",
    "```"
   ]
  },
  {
   "cell_type": "code",
   "execution_count": null,
   "metadata": {
    "collapsed": true
   },
   "outputs": [],
   "source": []
  },
  {
   "cell_type": "code",
   "execution_count": 8,
   "metadata": {
    "collapsed": false,
    "deletable": true,
    "editable": true
   },
   "outputs": [
    {
     "data": {
      "text/plain": [
       "<matplotlib.text.Text at 0x7fc4fcf36d90>"
      ]
     },
     "execution_count": 8,
     "metadata": {},
     "output_type": "execute_result"
    },
    {
     "data": {
      "image/png": "[encoded data removed]",
      "text/plain": [
       "<matplotlib.figure.Figure at 0x7fc4fd1d2790>"
      ]
     },
     "metadata": {},
     "output_type": "display_data"
    }
   ],
   "source": [
    "#fig, (ax0, ax1), (ax2, ax3) = plt.subplots(nrows=2, ncols=2, figsize=(15,15))\n",
    "\n",
    "fig = plt.figure(figsize=(8, 8))\n",
    "ax0 = plt.subplot(2, 2, 1)\n",
    "\n",
    "\n",
    "for i in range(0,len(dataA)):\n",
    "    ax0.scatter((paramsA[i]['eta1'][1]), dataA[i]['pressmax'] - dataA[i]['pressmin'], c='r')\n",
    "    ax0.scatter((paramsB[i]['eta1'][1]), dataB[i]['pressmax'] - dataB[i]['pressmin'], c='g')\n",
    "    ax0.scatter((paramsC[i]['eta1'][1]), dataC[i]['pressmax'] - dataC[i]['pressmin'], c='b')\n",
    "\n",
    "ax0.set_xlabel('$\\eta_1$')\n",
    "ax0.set_ylabel(\"$\\Delta p'$\")    \n",
    "\n",
    "ax1 = plt.subplot(2, 2, 2)\n",
    "\n",
    "for i in range(0,len(dataA)):\n",
    "    ax1.scatter((paramsA[i]['eta2'][1]), dataA[i]['pressmax'] - dataA[i]['pressmin'], c='r')\n",
    "    ax1.scatter((paramsB[i]['eta2'][1]), dataB[i]['pressmax'] - dataB[i]['pressmin'], c='g')\n",
    "    ax1.scatter((paramsC[i]['eta2'][1]), dataC[i]['pressmax'] - dataC[i]['pressmin'], c='b')\n",
    "\n",
    "ax1.set_xlabel('$\\eta_2$')\n",
    "ax1.set_ylabel(\"$\\Delta p'$\")  \n",
    " \n",
    "    \n",
    "ax2 = plt.subplot(2, 2, 3)    \n",
    "#ax2.get_xaxis().get_major_formatter().set_scientific(False)\n",
    "for i in range(0,len(dataA)):\n",
    "    ax2.scatter(paramsA[i]['U0'][1]*(paramsA[i]['eta1'][1]), dataA[i]['pressmax'] - dataA[i]['pressmin'], c='r')\n",
    "    ax2.scatter(paramsB[i]['U0'][1]*(paramsB[i]['eta1'][1]), dataB[i]['pressmax'] - dataB[i]['pressmin'], c='g')\n",
    "    ax2.scatter(paramsC[i]['U0'][1]*(paramsC[i]['eta1'][1]), dataC[i]['pressmax'] - dataC[i]['pressmin'], c='b')\n",
    "\n",
    "\n",
    "ax2.set_xlabel('$U_0\\eta_1$')\n",
    "ax2.set_ylabel(\"$\\Delta p'$\")\n",
    "\n",
    "\n",
    "ax3 = plt.subplot(2, 2, 4)\n",
    "\n",
    "for i in range(0,len(dataA)):\n",
    "    ax3.scatter(np.log((paramsA[i]['eta1'][1]/paramsA[i]['eta2'][1])), dataA[i]['pressmax'] - dataA[i]['pressmin'], c='r')\n",
    "    ax3.scatter(np.log((paramsB[i]['eta1'][1]/paramsB[i]['eta2'][1])), dataB[i]['pressmax'] - dataB[i]['pressmin'], c='g')\n",
    "    ax3.scatter(np.log((paramsC[i]['eta1'][1]/paramsC[i]['eta2'][1])), dataC[i]['pressmax'] - dataC[i]['pressmin'], c='b')\n",
    "\n",
    "ax3.set_xlabel('$log(\\eta_1 / \\eta_2$)')\n",
    "ax3.set_ylabel(\"$\\Delta p'$\")\n",
    "#ax.set_xscale('log')\n",
    "#ax.legend(loc=4, prop={'size':8})\n",
    "\n",
    "#fig.savefig('pressures.png')"
   ]
  },
  {
   "cell_type": "code",
   "execution_count": 9,
   "metadata": {
    "collapsed": false,
    "deletable": true,
    "editable": true
   },
   "outputs": [
    {
     "name": "stdout",
     "output_type": "stream",
     "text": [
      "[ 0.01  0.1   1.  ]\n"
     ]
    }
   ],
   "source": [
    "mar = 'eta2'\n",
    "uniqs = np.unique([float(i[mar ][1]) for i in paramsD])\n",
    "print(uniqs)\n",
    "\n",
    "mMap = {}\n",
    "mMap[uniqs[0]] = '*'\n",
    "mMap[uniqs[1]] = 'o'\n",
    "mMap[uniqs[2]] = '+'"
   ]
  },
  {
   "cell_type": "code",
   "execution_count": 10,
   "metadata": {
    "collapsed": false,
    "deletable": true,
    "editable": true
   },
   "outputs": [
    {
     "data": {
      "text/plain": [
       "<matplotlib.legend.Legend at 0x7fc4fcb5b090>"
      ]
     },
     "execution_count": 10,
     "metadata": {},
     "output_type": "execute_result"
    },
    {
     "data": {
      "image/png": "[encoded data removed]",
      "text/plain": [
       "<matplotlib.figure.Figure at 0x7fc4fcb0acd0>"
      ]
     },
     "metadata": {},
     "output_type": "display_data"
    }
   ],
   "source": [
    "fig, ax = plt.subplots()\n",
    "\n",
    "#fig = plt.figure(figsize=(8, 8))\n",
    "\n",
    "col = 'notchWidth'\n",
    "\n",
    "for i in range(0,len(dataD), 3):\n",
    "    #print(i)\n",
    "    ax.scatter((paramsD[i][col][1]*48.), dataD[i]['pressmax'][::3] - dataD[i]['pressmin'][::3], c='r', \\\n",
    "               marker=mMap[paramsD[i][mar][1]], label = '{} {} {:6.3f}'.format('res.: 48', ',  $\\eta_2$:', paramsD[i]['eta2'][1]))\n",
    "    \n",
    "for i in range(1,len(dataD), 3):\n",
    "    ax.scatter((paramsD[i][col][1]*64.), dataD[i]['pressmax'][::3] - dataD[i]['pressmin'][::3], c='b', \\\n",
    "               marker=mMap[paramsD[i][mar][1]], label = '{} {} {:6.3f}'.format('res.: 64', ',  $\\eta_2$:', paramsD[i]['eta2'][1]))\n",
    "    \n",
    "\n",
    "for i in range(2,len(dataD), 3):\n",
    "    ax.scatter((paramsD[i][col][1]*96), dataD[i]['pressmax'][::3] - dataD[i]['pressmin'][::3], c='g',  \\\n",
    "               marker=mMap[paramsD[i][mar][1]], label = '{} {} {:6.3f}'.format('res.: 96', ',  $\\eta_2$:', paramsD[i]['eta2'][1]))\n",
    "    \n",
    "    \n",
    "    \n",
    "ax.set_xlabel('$d/ \\Delta x$')\n",
    "ax.set_ylabel(\"$\\Delta p'$\")\n",
    "\n",
    "\n",
    "#now we cut down the legend entries to a minimal set\n",
    "\n",
    "handles, labels = ax.get_legend_handles_labels()\n",
    "labels = [labels[0], labels[1] ,labels[2] , labels[9],  labels[-3]]\n",
    "handles = [handles[0] , handles[1], handles[2],  handles[9],  handles[-3] ]\n",
    "ax.legend(handles,labels, loc=1, prop={'size':8})"
   ]
  },
  {
   "cell_type": "code",
   "execution_count": 11,
   "metadata": {
    "collapsed": false,
    "deletable": true,
    "editable": true
   },
   "outputs": [
    {
     "data": {
      "text/plain": [
       "<matplotlib.text.Text at 0x7fc4fc918b50>"
      ]
     },
     "execution_count": 11,
     "metadata": {},
     "output_type": "execute_result"
    },
    {
     "data": {
      "image/png": "[encoded data removed]",
      "text/plain": [
       "<matplotlib.figure.Figure at 0x7fc4fccd1210>"
      ]
     },
     "metadata": {},
     "output_type": "display_data"
    }
   ],
   "source": [
    "fig = plt.figure(figsize=(12, 4))\n",
    "ax0 = plt.subplot(1, 3, 1)\n",
    "#fig = plt.figure(figsize=(8, 8))\n",
    "\n",
    "col = 'eta2'\n",
    "\n",
    "for i in range(0,len(dataD), 3):\n",
    "    #print(i)\n",
    "    ax0.scatter((paramsD[i]['eta1'][1]) - (paramsD[i]['eta2'][1])/paramsD[i]['eta1'][1], dataD[i]['pressmax'][::3] - dataD[i]['pressmin'][::3], c='r', marker=mMap[paramsD[i][mar][1]])\n",
    "    \n",
    "for i in range(1,len(dataD), 3):\n",
    "    #print(i)\n",
    "    ax0.scatter((paramsD[i]['eta1'][1]) - (paramsD[i]['eta2'][1])/paramsD[i]['eta1'][1], dataD[i]['pressmax'][::3] - dataD[i]['pressmin'][::3], c='b', marker=mMap[paramsD[i][mar][1]])\n",
    "    \n",
    "    \n",
    "for i in range(2,len(dataD), 3):\n",
    "    #print(i)\n",
    "    ax0.scatter((paramsD[i]['eta1'][1]) - (paramsD[i]['eta2'][1])/paramsD[i]['eta1'][1], dataD[i]['pressmax'][::3] - dataD[i]['pressmin'][::3], c='g', marker=mMap[paramsD[i][mar][1]])\n",
    "\n",
    "    \n",
    "ax0.set_xlabel('$\\eta_1 - \\eta_2$')\n",
    "ax0.set_ylabel(\"$\\Delta p'$\")\n",
    "    \n",
    "ax1 = plt.subplot(1, 3, 2)\n",
    "    \n",
    "for i in range(0,len(dataD), 3):\n",
    "    #print(i)\n",
    "    ax1.scatter(np.log((paramsD[i]['eta1'][1]) / (paramsD[i]['eta2'][1])), dataD[i]['pressmax'][::3] - dataD[i]['pressmin'][::3], c='r', marker=mMap[paramsD[i][mar][1]])\n",
    "    \n",
    "for i in range(1,len(dataD), 3):\n",
    "    #print(i)\n",
    "    ax1.scatter(np.log((paramsD[i]['eta1'][1]) / (paramsD[i]['eta2'][1])), dataD[i]['pressmax'][::3] - dataD[i]['pressmin'][::3], c='b', marker=mMap[paramsD[i][mar][1]])\n",
    "    \n",
    "    \n",
    "for i in range(2,len(dataD), 3):\n",
    "    #print(i)\n",
    "    ax1.scatter(np.log((paramsD[i]['eta1'][1]) / (paramsD[i]['eta2'][1])), dataD[i]['pressmax'][::3] - dataD[i]['pressmin'][::3], c='g', marker=mMap[paramsD[i][mar][1]])\n",
    "    \n",
    "    \n",
    "ax1.set_xlabel('$log(\\eta_1 / \\eta_2$)')\n",
    "ax1.set_ylabel(\"$\\Delta p'$\")\n",
    "\n",
    "\n",
    "ax2 = plt.subplot(1, 3, 3)\n",
    "\n",
    "\n",
    "\n",
    "col = 'notchWidth'\n",
    "\n",
    "for i in range(0,len(dataD), 3):\n",
    "    #print(i)\n",
    "    ax2.scatter((paramsD[i][col][1]*48.), dataD[i]['pressmax'][::3] - dataD[i]['pressmin'][::3], c='r', marker=mMap[paramsD[i][mar][1]])\n",
    "    \n",
    "for i in range(1,len(dataD), 3):\n",
    "    ax2.scatter((paramsD[i][col][1]*64.), dataD[i]['pressmax'][::3] - dataD[i]['pressmin'][::3], c='b', marker=mMap[paramsD[i][mar][1]])\n",
    "\n",
    "for i in range(2,len(dataD), 3):\n",
    "    ax2.scatter((paramsD[i][col][1]*96), dataD[i]['pressmax'][::3] - dataD[i]['pressmin'][::3], c='g',  marker=mMap[paramsD[i][mar][1]])\n",
    "    \n",
    "    \n",
    "ax2.set_xlabel('$d/ \\Delta x$')\n",
    "ax2.set_ylabel(\"$\\Delta p'$\")"
   ]
  },
  {
   "cell_type": "markdown",
   "metadata": {
    "deletable": true,
    "editable": true
   },
   "source": [
    "## E"
   ]
  },
  {
   "cell_type": "code",
   "execution_count": 12,
   "metadata": {
    "collapsed": false,
    "deletable": true,
    "editable": true
   },
   "outputs": [
    {
     "name": "stdout",
     "output_type": "stream",
     "text": [
      "[ 0.03125  0.0625   0.125  ]\n"
     ]
    }
   ],
   "source": [
    "mar = 'notchWidth'\n",
    "uniqs = np.unique([float(i[mar ][1]) for i in paramsE])\n",
    "print(uniqs)\n",
    "\n",
    "mMap = {}\n",
    "mMap[uniqs[0]] = '*'\n",
    "mMap[uniqs[1]] = 'o'\n",
    "mMap[uniqs[2]] = '+'"
   ]
  },
  {
   "cell_type": "code",
   "execution_count": 13,
   "metadata": {
    "collapsed": false,
    "deletable": true,
    "editable": true
   },
   "outputs": [
    {
     "data": {
      "image/png": "[encoded data removed]",
      "text/plain": [
       "<matplotlib.figure.Figure at 0x7fc4fcb8ee90>"
      ]
     },
     "metadata": {},
     "output_type": "display_data"
    }
   ],
   "source": [
    "fig, ax = plt.subplots()\n",
    "\n",
    "#fig = plt.figure(figsize=(8, 8))\n",
    "\n",
    "col = 'fa'\n",
    "\n",
    "    \n",
    "for i in range(0,len(dataE), 2):\n",
    "    #print(i)\n",
    "    ax.scatter((paramsE[i][col][1]), dataE[i]['pressmax'][::3] - dataE[i]['pressmin'][::3], c='b', \\\n",
    "               marker=mMap[paramsE[i][mar][1]], label = '{} {} {:6.3f}'.format('res.: 64', ',  $\\eta_2$:', paramsE[i]['eta2'][1]))\n",
    "    \n",
    "\n",
    "for i in range(1,len(dataE), 2):\n",
    "    #print(i)\n",
    "    ax.scatter((paramsE[i][col][1]), dataE[i]['pressmax'][::3] - dataE[i]['pressmin'][::3], c='g',  \\\n",
    "               marker=mMap[paramsE[i][mar][1]], label = '{} {} {:6.3f}'.format('res.: 96', ',  $\\eta_2$:', paramsE[i]['eta2'][1]))\n",
    "    \n",
    "    \n",
    "    \n",
    "ax.set_xlabel('$sin(\\phi)$')\n",
    "ax.set_ylabel(\"$\\Delta p'$\")\n",
    "\n",
    "\n",
    "#now we cut down the legend entries to a minimal set\n",
    "\n",
    "handles, labels = ax.get_legend_handles_labels()\n",
    "#labels = [labels[0], labels[1] ,labels[2] , labels[9],  labels[-3]]\n",
    "#handles = [handles[0] , handles[1], handles[2],  handles[9],  handles[-3] ]\n",
    "#ax.legend(handles,labels, loc=1, prop={'size':8})"
   ]
  },
  {
   "cell_type": "code",
   "execution_count": 14,
   "metadata": {
    "collapsed": false,
    "deletable": true,
    "editable": true
   },
   "outputs": [
    {
     "data": {
      "text/plain": [
       "<matplotlib.text.Text at 0x7fc4fc4c5950>"
      ]
     },
     "execution_count": 14,
     "metadata": {},
     "output_type": "execute_result"
    },
    {
     "data": {
      "image/png": "[encoded data removed]",
      "text/plain": [
       "<matplotlib.figure.Figure at 0x7fc4fc6aaed0>"
      ]
     },
     "metadata": {},
     "output_type": "display_data"
    }
   ],
   "source": [
    "fig = plt.figure(figsize=(12, 4))\n",
    "ax0 = plt.subplot(1, 3, 1)\n",
    "\n",
    "col = 'fa'\n",
    "\n",
    "    \n",
    "for i in range(0,len(dataE), 2):\n",
    "    #print(i)\n",
    "    ax0.scatter((paramsE[i][col][1]), dataE[i]['pressmax'][::3], c='b', \\\n",
    "               marker=mMap[paramsE[i][mar][1]], label = '{} {} {:6.3f}'.format('res.: 64', ',  $\\eta_2$:', paramsE[i]['eta2'][1]))\n",
    "    \n",
    "\n",
    "for i in range(1,len(dataE), 2):\n",
    "    #print(i)\n",
    "    ax0.scatter((paramsE[i][col][1]), dataE[i]['pressmax'][::3], c='g',  \\\n",
    "               marker=mMap[paramsE[i][mar][1]], label = '{} {} {:6.3f}'.format('res.: 96', ',  $\\eta_2$:', paramsE[i]['eta2'][1]))\n",
    "    \n",
    "    \n",
    "    \n",
    "ax0.set_xlabel('$sin(\\phi)$')\n",
    "ax0.set_ylabel(\"$p'_{max}$\")\n",
    "\n",
    "\n",
    "#now we cut down the legend entries to a minimal set\n",
    "\n",
    "#handles, labels = ax.get_legend_handles_labels()\n",
    "#labels = [labels[0], labels[1] ,labels[2] , labels[9],  labels[-3]]\n",
    "#handles = [handles[0] , handles[1], handles[2],  handles[9],  handles[-3] ]\n",
    "#ax.legend(handles,labels, loc=1, prop={'size':8})\n",
    "\n",
    "\n",
    "ax1 = plt.subplot(1, 3, 2)\n",
    "\n",
    "for i in range(0,len(dataE), 2):\n",
    "    #print(i)\n",
    "    ax1.scatter((paramsE[i][col][1]), dataE[i]['pressmin'][::3], c='b', \\\n",
    "               marker=mMap[paramsE[i][mar][1]], label = '{} {} {:6.3f}'.format('res.: 64', ',  $\\eta_2$:', paramsE[i]['eta2'][1]))\n",
    "    \n",
    "\n",
    "for i in range(1,len(dataE), 2):\n",
    "    #print(i)\n",
    "    ax1.scatter((paramsE[i][col][1]), dataE[i]['pressmin'][::3], c='g',  \\\n",
    "               marker=mMap[paramsE[i][mar][1]], label = '{} {} {:6.3f}'.format('res.: 96', ',  $\\eta_2$:', paramsE[i]['eta2'][1]))\n",
    "    \n",
    "    \n",
    "    \n",
    "ax1.set_xlabel('$sin(\\phi)$')\n",
    "ax1.set_ylabel(\"$p'_{min}$\")\n",
    "\n",
    "\n",
    "\n",
    "\n",
    "ax2 = plt.subplot(1, 3, 3)\n",
    "\n",
    "for i in range(0,len(dataE), 2):\n",
    "    #print(i)\n",
    "    ax2.scatter((paramsE[i][col][1]), dataE[i]['pressmax'][::3] - dataE[i]['pressmin'][::3], c='b', \\\n",
    "               marker=mMap[paramsE[i][mar][1]], label = '{} {} {:6.3f}'.format('res.: 64', ',  $\\eta_2$:', paramsE[i]['eta2'][1]))\n",
    "    \n",
    "\n",
    "for i in range(1,len(dataE), 2):\n",
    "    #print(i)\n",
    "    ax2.scatter((paramsE[i][col][1]), dataE[i]['pressmax'][::3] - dataE[i]['pressmin'][::3], c='g',  \\\n",
    "               marker=mMap[paramsE[i][mar][1]], label = '{} {} {:6.3f}'.format('res.: 96', ',  $\\eta_2$:', paramsE[i]['eta2'][1]))\n",
    "    \n",
    "    \n",
    "    \n",
    "ax2.set_xlabel('$sin(\\phi)$')\n",
    "ax2.set_ylabel(\"$\\Delta p'$\")"
   ]
  },
  {
   "cell_type": "code",
   "execution_count": 15,
   "metadata": {
    "collapsed": false,
    "deletable": true,
    "editable": true
   },
   "outputs": [
    {
     "data": {
      "text/plain": [
       "Index([u'rmsint', u'shearArea', u'shearPressure', u'backgroundArea',\n",
       "       u'backgroundPressure', u'viscmin', u'viscmax', u'eiimin', u'eiimax',\n",
       "       u'angle', u'vdint', u'shearVd', u'backgroundVd', u'pressmin',\n",
       "       u'pressmax'],\n",
       "      dtype='object')"
      ]
     },
     "execution_count": 15,
     "metadata": {},
     "output_type": "execute_result"
    }
   ],
   "source": [
    "dataE[0].columns"
   ]
  },
  {
   "cell_type": "code",
   "execution_count": 16,
   "metadata": {
    "collapsed": false,
    "deletable": true,
    "editable": true
   },
   "outputs": [
    {
     "data": {
      "image/png": "[encoded data removed]",
      "text/plain": [
       "<matplotlib.figure.Figure at 0x7fc4fcc1d8d0>"
      ]
     },
     "metadata": {},
     "output_type": "display_data"
    }
   ],
   "source": [
    "fig, ax = plt.subplots()\n",
    "\n",
    "#fig = plt.figure(figsize=(8, 8))\n",
    "\n",
    "col = 'fa'\n",
    "\n",
    "    \n",
    "for i in range(0,len(dataE), 2):\n",
    "    #print(i)\n",
    "    ax.scatter((paramsE[i][col][1]), dataE[i]['shearPressure'][::3], c='b', \\\n",
    "               marker=mMap[paramsE[i][mar][1]], label = '{} {} {:6.3f}'.format('res.: 64', ',  $\\eta_2$:', paramsE[i]['eta2'][1]))\n",
    "    \n",
    "\n",
    "for i in range(1,len(dataE), 2):\n",
    "    #print(i)\n",
    "    ax.scatter((paramsE[i][col][1]), dataE[i]['shearPressure'][::3], c='g',  \\\n",
    "               marker=mMap[paramsE[i][mar][1]], label = '{} {} {:6.3f}'.format('res.: 96', ',  $\\eta_2$:', paramsE[i]['eta2'][1]))\n",
    "    \n",
    "    \n",
    "    \n",
    "ax.set_xlabel('$sin(\\phi)$')\n",
    "ax.set_ylabel(\"$\\Delta p'$\")\n",
    "\n",
    "\n",
    "#now we cut down the legend entries to a minimal set\n",
    "\n",
    "handles, labels = ax.get_legend_handles_labels()\n",
    "#labels = [labels[0], labels[1] ,labels[2] , labels[9],  labels[-3]]\n",
    "#handles = [handles[0] , handles[1], handles[2],  handles[9],  handles[-3] ]\n",
    "#ax.legend(handles,labels, loc=1, prop={'size':8})"
   ]
  },
  {
   "cell_type": "code",
   "execution_count": 17,
   "metadata": {
    "collapsed": false,
    "deletable": true,
    "editable": true
   },
   "outputs": [
    {
     "data": {
      "image/png": "[encoded data removed]",
      "text/plain": [
       "<matplotlib.figure.Figure at 0x7fc4fc2d0dd0>"
      ]
     },
     "metadata": {},
     "output_type": "display_data"
    }
   ],
   "source": [
    "fig, ax = plt.subplots()\n",
    "\n",
    "#fig = plt.figure(figsize=(8, 8))\n",
    "\n",
    "col = 'fa'\n",
    "\n",
    "    \n",
    "for i in range(0,len(dataE), 2):\n",
    "    #print(i)\n",
    "    ax.scatter((paramsE[i][col][1]), dataE[i]['backgroundPressure'][::3], c='b', \\\n",
    "               marker=mMap[paramsE[i][mar][1]], label = '{} {} {:6.3f}'.format('res.: 64', ',  $\\eta_2$:', paramsE[i]['eta2'][1]))\n",
    "    \n",
    "\n",
    "for i in range(1,len(dataE), 2):\n",
    "    #print(i)\n",
    "    ax.scatter((paramsE[i][col][1]), dataE[i]['backgroundPressure'][::3], c='g',  \\\n",
    "               marker=mMap[paramsE[i][mar][1]], label = '{} {} {:6.3f}'.format('res.: 96', ',  $\\eta_2$:', paramsE[i]['eta2'][1]))\n",
    "    \n",
    "    \n",
    "    \n",
    "ax.set_xlabel('$sin(\\phi)$')\n",
    "ax.set_ylabel(\"$\\Delta p'$\")\n",
    "\n",
    "\n",
    "#now we cut down the legend entries to a minimal set\n",
    "\n",
    "handles, labels = ax.get_legend_handles_labels()\n",
    "#labels = [labels[0], labels[1] ,labels[2] , labels[9],  labels[-3]]\n",
    "#handles = [handles[0] , handles[1], handles[2],  handles[9],  handles[-3] ]\n",
    "#ax.legend(handles,labels, loc=1, prop={'size':8})"
   ]
  },
  {
   "cell_type": "code",
   "execution_count": 18,
   "metadata": {
    "collapsed": false,
    "deletable": true,
    "editable": true
   },
   "outputs": [
    {
     "data": {
      "image/png": "[encoded data removed]",
      "text/plain": [
       "<matplotlib.figure.Figure at 0x7fc4fc1f2d10>"
      ]
     },
     "metadata": {},
     "output_type": "display_data"
    }
   ],
   "source": [
    "fig, ax = plt.subplots()\n",
    "\n",
    "#fig = plt.figure(figsize=(8, 8))\n",
    "\n",
    "col = 'fa'\n",
    "\n",
    "    \n",
    "for i in range(0,len(dataE), 2):\n",
    "    #print(i)\n",
    "    ax.scatter((paramsE[i][col][1]), dataE[i]['eiimax'][::3], c='b', \\\n",
    "               marker=mMap[paramsE[i][mar][1]], label = '{} {} {:6.3f}'.format('res.: 64', ',  $\\eta_2$:', paramsE[i]['eta2'][1]))\n",
    "    \n",
    "\n",
    "for i in range(1,len(dataE), 2):\n",
    "    #print(i)\n",
    "    ax.scatter((paramsE[i][col][1]), dataE[i]['eiimax'][::3], c='g',  \\\n",
    "               marker=mMap[paramsE[i][mar][1]], label = '{} {} {:6.3f}'.format('res.: 96', ',  $\\eta_2$:', paramsE[i]['eta2'][1]))\n",
    "    \n",
    "    \n",
    "    \n",
    "ax.set_xlabel('$sin(\\phi)$')\n",
    "ax.set_ylabel(\"$\\dot\\epsilon_{II, max}$\")\n",
    "\n",
    "\n",
    "#now we cut down the legend entries to a minimal set\n",
    "\n",
    "handles, labels = ax.get_legend_handles_labels()\n",
    "#labels = [labels[0], labels[1] ,labels[2] , labels[9],  labels[-3]]\n",
    "#handles = [handles[0] , handles[1], handles[2],  handles[9],  handles[-3] ]\n",
    "#ax.legend(handles,labels, loc=1, prop={'size':8})"
   ]
  },
  {
   "cell_type": "code",
   "execution_count": 19,
   "metadata": {
    "collapsed": false,
    "deletable": true,
    "editable": true
   },
   "outputs": [
    {
     "data": {
      "image/png": "[encoded data removed]",
      "text/plain": [
       "<matplotlib.figure.Figure at 0x7fc4fc0b3890>"
      ]
     },
     "metadata": {},
     "output_type": "display_data"
    }
   ],
   "source": [
    "fig, ax = plt.subplots()\n",
    "\n",
    "#fig = plt.figure(figsize=(8, 8))\n",
    "\n",
    "col = 'fa'\n",
    "\n",
    "    \n",
    "for i in range(0,len(dataE), 2):\n",
    "    #print(i)\n",
    "    ax.scatter((paramsE[i][col][1]), dataE[i]['shearVd'][::3], c='b', \\\n",
    "               marker=mMap[paramsE[i][mar][1]], label = '{} {} {:6.3f}'.format('res.: 64', ',  $\\eta_2$:', paramsE[i]['eta2'][1]))\n",
    "    \n",
    "\n",
    "for i in range(1,len(dataE), 2):\n",
    "    #print(i)\n",
    "    ax.scatter((paramsE[i][col][1]), dataE[i]['shearVd'][::3], c='g',  \\\n",
    "               marker=mMap[paramsE[i][mar][1]], label = '{} {} {:6.3f}'.format('res.: 96', ',  $\\eta_2$:', paramsE[i]['eta2'][1]))\n",
    "    \n",
    "    \n",
    "    \n",
    "ax.set_xlabel('$sin(\\phi)$')\n",
    "ax.set_ylabel(\"dissipation\")\n",
    "\n",
    "\n",
    "#now we cut down the legend entries to a minimal set\n",
    "\n",
    "handles, labels = ax.get_legend_handles_labels()\n",
    "#labels = [labels[0], labels[1] ,labels[2] , labels[9],  labels[-3]]\n",
    "#handles = [handles[0] , handles[1], handles[2],  handles[9],  handles[-3] ]\n",
    "#ax.legend(handles,labels, loc=1, prop={'size':8})"
   ]
  },
  {
   "cell_type": "code",
   "execution_count": 20,
   "metadata": {
    "collapsed": false,
    "deletable": true,
    "editable": true
   },
   "outputs": [
    {
     "data": {
      "image/png": "[encoded data removed]",
      "text/plain": [
       "<matplotlib.figure.Figure at 0x7fc4fc1b5290>"
      ]
     },
     "metadata": {},
     "output_type": "display_data"
    }
   ],
   "source": [
    "fig, ax = plt.subplots()\n",
    "\n",
    "#fig = plt.figure(figsize=(8, 8))\n",
    "\n",
    "col = 'fa'\n",
    "\n",
    "    \n",
    "for i in range(0,len(dataE), 2):\n",
    "    #print(i)\n",
    "    ax.scatter((paramsE[i][col][1]), dataE[i]['shearArea'][::3], c='b', \\\n",
    "               marker=mMap[paramsE[i][mar][1]], label = '{} {} {:6.3f}'.format('res.: 64', ',  $\\eta_2$:', paramsE[i]['eta2'][1]))\n",
    "    \n",
    "\n",
    "for i in range(1,len(dataE), 2):\n",
    "    #print(i)\n",
    "    ax.scatter((paramsE[i][col][1]), dataE[i]['shearArea'][::3], c='g',  \\\n",
    "               marker=mMap[paramsE[i][mar][1]], label = '{} {} {:6.3f}'.format('res.: 96', ',  $\\eta_2$:', paramsE[i]['eta2'][1]))\n",
    "    \n",
    "    \n",
    "    \n",
    "ax.set_xlabel('$sin(\\phi)$')\n",
    "ax.set_ylabel(\"area\")\n",
    "\n",
    "\n",
    "#now we cut down the legend entries to a minimal set\n",
    "\n",
    "handles, labels = ax.get_legend_handles_labels()\n",
    "#labels = [labels[0], labels[1] ,labels[2] , labels[9],  labels[-3]]\n",
    "#handles = [handles[0] , handles[1], handles[2],  handles[9],  handles[-3] ]\n",
    "#ax.legend(handles,labels, loc=1, prop={'size':8})"
   ]
  },
  {
   "cell_type": "code",
   "execution_count": 21,
   "metadata": {
    "collapsed": true,
    "deletable": true,
    "editable": true
   },
   "outputs": [],
   "source": [
    "## convergence"
   ]
  },
  {
   "cell_type": "code",
   "execution_count": 22,
   "metadata": {
    "collapsed": false,
    "deletable": true,
    "editable": true
   },
   "outputs": [],
   "source": [
    "#natsort.natsorted(glob.glob('../underworld2/results/E/**/solver.csv'))"
   ]
  },
  {
   "cell_type": "code",
   "execution_count": 25,
   "metadata": {
    "collapsed": false,
    "deletable": true,
    "editable": true
   },
   "outputs": [],
   "source": [
    "res1 = []\n",
    "\n",
    "\n",
    "for f in natsort.natsort(glob.glob('../underworld2/results/E/**/solver.csv')):\n",
    "    #print(f)\n",
    "    s = np.loadtxt(f, delimiter=',')\n",
    "    res1.append(s[0])"
   ]
  },
  {
   "cell_type": "code",
   "execution_count": 26,
   "metadata": {
    "collapsed": false,
    "deletable": true,
    "editable": true
   },
   "outputs": [
    {
     "name": "stdout",
     "output_type": "stream",
     "text": [
      "[ 0.          0.17364818  0.34202014  0.5         0.64278761]\n"
     ]
    }
   ],
   "source": [
    "col = 'fa'\n",
    "uniqs = np.unique([float(i[col][1]) for i in paramsE])\n",
    "print(uniqs)\n",
    "\n",
    "cMap = {}\n",
    "cMap[uniqs[0]] = 'r'\n",
    "cMap[uniqs[1]] = 'g'\n",
    "cMap[uniqs[2]] = 'b'\n",
    "cMap[uniqs[3]] = 'k'\n",
    "cMap[uniqs[4]] = 'y'"
   ]
  },
  {
   "cell_type": "code",
   "execution_count": 27,
   "metadata": {
    "collapsed": false,
    "deletable": true,
    "editable": true
   },
   "outputs": [],
   "source": [
    "#paramsE[0][col]"
   ]
  },
  {
   "cell_type": "code",
   "execution_count": 28,
   "metadata": {
    "collapsed": false,
    "deletable": true,
    "editable": true
   },
   "outputs": [
    {
     "data": {
      "text/plain": [
       "<matplotlib.text.Text at 0x7fc4fbccebd0>"
      ]
     },
     "execution_count": 28,
     "metadata": {},
     "output_type": "execute_result"
    },
    {
     "data": {
      "image/png": "[encoded data removed]",
      "text/plain": [
       "<matplotlib.figure.Figure at 0x7fc4fbd6bd50>"
      ]
     },
     "metadata": {},
     "output_type": "display_data"
    }
   ],
   "source": [
    "fig = plt.figure(figsize=(12, 4))\n",
    "ax0 = plt.subplot(1, 2, 1)\n",
    "ax1 = plt.subplot(1, 2, 2)\n",
    "\n",
    "    \n",
    "for i in range(0,len(res1), 2):\n",
    "    #print(i)\n",
    "    ax0.scatter(range(len(res1[i])), res1[i], marker=mMap[paramsE[i][mar][1]], c= cMap[paramsE[i][col][1]], label=str(i + 1))\n",
    "    \n",
    "    \n",
    "for i in range(1,len(dataE), 2):\n",
    "    #print(i)\n",
    "    ax1.scatter(range(len(res1[i])), res1[i], marker=mMap[paramsE[i][mar][1]], c= cMap[paramsE[i][col][1]], label=str(i + 1))\n",
    "    \n",
    "\n",
    "\n",
    "\n",
    "    \n",
    "ax0.set_yscale('log')\n",
    "ax0.set_ylim(1e-3,0.1)\n",
    "ax0.set_xlim(1,25.)\n",
    "ax0.legend(loc=1, ncol=3, prop={'size':6})\n",
    "ax0.set_xlabel('iteration')\n",
    "\n",
    "\n",
    "\n",
    "ax1.set_yscale('log')\n",
    "ax1.set_ylim(1e-5,1e-2)\n",
    "ax1.set_xlim(26,50.)\n",
    "ax1.legend(loc=1, ncol=3, prop={'size':6})\n",
    "ax1.set_xlabel('iteration')\n",
    "\n",
    "    \n",
    "#ax.set_xlabel('$sin(\\phi)$')\n",
    "#ax.set_ylabel(\"area\")\n"
   ]
  },
  {
   "cell_type": "code",
   "execution_count": 29,
   "metadata": {
    "collapsed": false,
    "deletable": true,
    "editable": true
   },
   "outputs": [],
   "source": [
    "#label = '{} {} {:6.3f}'.format('res.: 64', ',  $\\eta_2$:', paramsE[i]['eta2'][1]))"
   ]
  },
  {
   "cell_type": "code",
   "execution_count": 30,
   "metadata": {
    "collapsed": false,
    "deletable": true,
    "editable": true
   },
   "outputs": [
    {
     "data": {
      "text/plain": [
       "(29, 'y', 0.64278760968653925)"
      ]
     },
     "execution_count": 30,
     "metadata": {},
     "output_type": "execute_result"
    }
   ],
   "source": [
    "i, cMap[paramsE[i][col][1]], paramsE[i][col][1]"
   ]
  },
  {
   "cell_type": "markdown",
   "metadata": {
    "collapsed": true,
    "deletable": true,
    "editable": true
   },
   "source": [
    "## F"
   ]
  },
  {
   "cell_type": "code",
   "execution_count": null,
   "metadata": {
    "collapsed": true
   },
   "outputs": [],
   "source": []
  },
  {
   "cell_type": "code",
   "execution_count": null,
   "metadata": {
    "collapsed": true
   },
   "outputs": [],
   "source": []
  }
 ],
 "metadata": {
  "kernelspec": {
   "display_name": "Python 2",
   "language": "python",
   "name": "python2"
  },
  "language_info": {
   "codemirror_mode": {
    "name": "ipython",
    "version": 2
   },
   "file_extension": ".py",
   "mimetype": "text/x-python",
   "name": "python",
   "nbconvert_exporter": "python",
   "pygments_lexer": "ipython2",
   "version": "2.7.9"
  }
 },
 "nbformat": 4,
 "nbformat_minor": 1
}
