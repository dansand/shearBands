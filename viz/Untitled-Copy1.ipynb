{
 "cells": [
  {
   "cell_type": "code",
   "execution_count": 149,
   "metadata": {
    "collapsed": false
   },
   "outputs": [
    {
     "name": "stdout",
     "output_type": "stream",
     "text": [
      "Populating the interactive namespace from numpy and matplotlib\n"
     ]
    }
   ],
   "source": [
    "import natsort\n",
    "import glob\n",
    "import numpy as np\n",
    "import pandas as pd\n",
    "import seaborn as sns\n",
    "%pylab inline"
   ]
  },
  {
   "cell_type": "code",
   "execution_count": 150,
   "metadata": {
    "collapsed": false
   },
   "outputs": [],
   "source": [
    "#glob.glob('underworld2/results/A/**/metrics.csv'), glob.glob('underworld2/results/A/**/solver.csv')\n",
    "#glob.glob('underworld2/results/C/**/*.csv')"
   ]
  },
  {
   "cell_type": "code",
   "execution_count": 151,
   "metadata": {
    "collapsed": true
   },
   "outputs": [],
   "source": [
    "mHeaders = ['rmsint', 'shearArea' ,'shearPressure', 'backgroundArea', 'backgroundPressure', \n",
    "            'viscmin', 'viscmax', 'eiimin', 'eiimax', 'angle', 'vdint', 'shearVd', 'backgroundVd', 'pressmin', 'pressmax' ]\n",
    "\n",
    "pHeaders = ['U0','a','asthenosphere','cohesion','depth','eta1','eta2','etaMin','fa','g','notchWidth','rho']"
   ]
  },
  {
   "cell_type": "code",
   "execution_count": 152,
   "metadata": {
    "collapsed": false
   },
   "outputs": [],
   "source": [
    "#natsort.natsorted(glob.glob('../underworld2/results/A/**/metrics.csv'))"
   ]
  },
  {
   "cell_type": "code",
   "execution_count": 153,
   "metadata": {
    "collapsed": true
   },
   "outputs": [],
   "source": [
    "def get_data(path1, path2):\n",
    "    data = []\n",
    "    params = []\n",
    "    metricFiles = natsort.natsorted(glob.glob(path1))\n",
    "    paramFiles = natsort.natsorted(glob.glob(path2))\n",
    "    print(len(metricFiles))\n",
    "    \n",
    "    for i in range(len(metricFiles)):\n",
    "        d = pd.read_csv(metricFiles[i], header=None)\n",
    "        d.columns = mHeaders\n",
    "        p = pd.read_csv(paramFiles[i], header=None, skip_footer=1)\n",
    "        p.columns = pHeaders \n",
    "        data.append(d)\n",
    "        params.append(p)\n",
    "\n",
    "    return data, params\n"
   ]
  },
  {
   "cell_type": "code",
   "execution_count": 154,
   "metadata": {
    "collapsed": false
   },
   "outputs": [
    {
     "name": "stdout",
     "output_type": "stream",
     "text": [
      "6\n",
      "6\n",
      "6\n"
     ]
    },
    {
     "name": "stderr",
     "output_type": "stream",
     "text": [
      "/usr/local/lib/python2.7/dist-packages/ipykernel/__main__.py:11: FutureWarning: The 'skip_footer' argument has been deprecated and will be removed in a future version. Please use the 'skipfooter' argument instead.\n",
      "/usr/local/lib/python2.7/dist-packages/ipykernel/__main__.py:11: ParserWarning: Falling back to the 'python' engine because the 'c' engine does not support skipfooter; you can avoid this warning by specifying engine='python'.\n"
     ]
    }
   ],
   "source": [
    "dataA, paramsA = get_data('../underworld2/results/A/**/metrics.csv', '../underworld2/results/A/**/params.csv')\n",
    "dataB, paramsB = get_data('../underworld2/results/B/**/metrics.csv', '../underworld2/results/B/**/params.csv')\n",
    "dataC, paramsC = get_data('../underworld2/results/C/**/metrics.csv', '../underworld2/results/C/**/params.csv')"
   ]
  },
  {
   "cell_type": "markdown",
   "metadata": {},
   "source": [
    "```\n",
    "counter=1\n",
    "c=1.0\n",
    "for a in 1.0 0.8 0.6 0.4 0.2 0.1\n",
    "do\n",
    "   b=$(echo \"$c/$a\" | bc -l)\n",
    "   docker run -v $PWD:/workspace  -i -t --rm dansand/underworld2-dev mpirun -np 16 python isotropic.py A $counter md.res=96 dp.eta1*=$a dp.eta2*=$a dp.U0*=$b\n",
    "   #docker run -v $PWD:/workspace  -i -t --rm dansand/underworld2-dev mpirun -np 16 python isotropic.py B $counter md.res=96 dp.eta1*=$a dp.eta2*=1. dp.U0*=$b\n",
    "   #docker run -v $PWD:/workspace  -i -t --rm dansand/underworld2-dev mpirun -np 16 python isotropic.py C $counter md.res=96 dp.eta1*=1.0 dp.eta2*=$a dp.U0*=1.0\n",
    "   #echo $a $b\n",
    "   let counter=counter+1\n",
    "done\n",
    "\n",
    "```"
   ]
  },
  {
   "cell_type": "code",
   "execution_count": 155,
   "metadata": {
    "collapsed": false
   },
   "outputs": [
    {
     "data": {
      "text/plain": [
       "<matplotlib.text.Text at 0x7f36e48dabd0>"
      ]
     },
     "execution_count": 155,
     "metadata": {},
     "output_type": "execute_result"
    },
    {
     "data": {
      "image/png": "[encoded data removed]",
      "text/plain": [
       "<matplotlib.figure.Figure at 0x7f36e48a47d0>"
      ]
     },
     "metadata": {},
     "output_type": "display_data"
    }
   ],
   "source": [
    "fig, ax = plt.subplots(figsize=(5,5))\n",
    "\n",
    "\n",
    "\n",
    "\n",
    "for i in range(0,len(dataA)):\n",
    "    ax.scatter(np.log((paramsA[i]['eta1'][1]/paramsA[i]['eta2'][1])), dataA[i]['pressmax'] - dataA[i]['pressmin'], c='r')\n",
    "    ax.scatter(np.log((paramsB[i]['eta1'][1]/paramsB[i]['eta2'][1])), dataB[i]['pressmax'] - dataB[i]['pressmin'], c='g')\n",
    "    ax.scatter(np.log((paramsC[i]['eta1'][1]/paramsC[i]['eta2'][1])), dataC[i]['pressmax'] - dataC[i]['pressmin'], c='b')\n",
    "\n",
    "\n",
    "    #ax.scatter((paramsB[i]['eta1'][1]/paramsB[i]['eta2'][1])/(paramsB[i]['U0'][1]*paramsB[i]['eta1'][1]), dataB[i]['pressmax'] - dataB[i]['pressmin'], c='g')\n",
    "\n",
    "\n",
    "\n",
    "ax.set_xlabel('$log(\\eta_1 / \\eta_2$)')\n",
    "ax.set_ylabel(\"$\\Delta p'$\")\n",
    "\n"
   ]
  },
  {
   "cell_type": "code",
   "execution_count": 156,
   "metadata": {
    "collapsed": false
   },
   "outputs": [
    {
     "data": {
      "text/plain": [
       "<matplotlib.text.Text at 0x7f36e4504b10>"
      ]
     },
     "execution_count": 156,
     "metadata": {},
     "output_type": "execute_result"
    },
    {
     "data": {
      "image/png": "[encoded data removed]",
      "text/plain": [
       "<matplotlib.figure.Figure at 0x7f36e48a4dd0>"
      ]
     },
     "metadata": {},
     "output_type": "display_data"
    }
   ],
   "source": [
    "#fig, (ax0, ax1), (ax2, ax3) = plt.subplots(nrows=2, ncols=2, figsize=(15,15))\n",
    "\n",
    "fig = plt.figure(figsize=(8, 8))\n",
    "ax0 = plt.subplot(2, 2, 1)\n",
    "\n",
    "\n",
    "for i in range(0,len(dataA)):\n",
    "    ax0.scatter((paramsA[i]['eta1'][1]), dataA[i]['pressmax'] - dataA[i]['pressmin'], c='r')\n",
    "    ax0.scatter((paramsB[i]['eta1'][1]), dataB[i]['pressmax'] - dataB[i]['pressmin'], c='g')\n",
    "    ax0.scatter((paramsC[i]['eta1'][1]), dataC[i]['pressmax'] - dataC[i]['pressmin'], c='b')\n",
    "\n",
    "ax0.set_xlabel('$\\eta_1$')\n",
    "ax0.set_ylabel(\"$\\Delta p'$\")    \n",
    "\n",
    "ax1 = plt.subplot(2, 2, 2)\n",
    "\n",
    "for i in range(0,len(dataA)):\n",
    "    ax1.scatter((paramsA[i]['eta2'][1]), dataA[i]['pressmax'] - dataA[i]['pressmin'], c='r')\n",
    "    ax1.scatter((paramsB[i]['eta2'][1]), dataB[i]['pressmax'] - dataB[i]['pressmin'], c='g')\n",
    "    ax1.scatter((paramsC[i]['eta2'][1]), dataC[i]['pressmax'] - dataC[i]['pressmin'], c='b')\n",
    "\n",
    "ax1.set_xlabel('$\\eta_2$')\n",
    "ax1.set_ylabel(\"$\\Delta p'$\")  \n",
    " \n",
    "    \n",
    "ax2 = plt.subplot(2, 2, 3)    \n",
    "#ax2.get_xaxis().get_major_formatter().set_scientific(False)\n",
    "for i in range(0,len(dataA)):\n",
    "    ax2.scatter(paramsA[i]['U0'][1]*(paramsA[i]['eta1'][1]), dataA[i]['pressmax'] - dataA[i]['pressmin'], c='r')\n",
    "    ax2.scatter(paramsB[i]['U0'][1]*(paramsB[i]['eta1'][1]), dataB[i]['pressmax'] - dataB[i]['pressmin'], c='g')\n",
    "    ax2.scatter(paramsC[i]['U0'][1]*(paramsC[i]['eta1'][1]), dataC[i]['pressmax'] - dataC[i]['pressmin'], c='b')\n",
    "\n",
    "\n",
    "ax2.set_xlabel('$U_0\\eta_1$')\n",
    "ax2.set_ylabel(\"$\\Delta p'$\")\n",
    "\n",
    "\n",
    "ax3 = plt.subplot(2, 2, 4)\n",
    "\n",
    "for i in range(0,len(dataA)):\n",
    "    ax3.scatter(np.log((paramsA[i]['eta1'][1]/paramsA[i]['eta2'][1])), dataA[i]['pressmax'] - dataA[i]['pressmin'], c='r')\n",
    "    ax3.scatter(np.log((paramsB[i]['eta1'][1]/paramsB[i]['eta2'][1])), dataB[i]['pressmax'] - dataB[i]['pressmin'], c='g')\n",
    "    ax3.scatter(np.log((paramsC[i]['eta1'][1]/paramsC[i]['eta2'][1])), dataC[i]['pressmax'] - dataC[i]['pressmin'], c='b')\n",
    "\n",
    "ax3.set_xlabel('$log(\\eta_1 / \\eta_2$)')\n",
    "ax3.set_ylabel(\"$\\Delta p'$\")\n",
    "#ax.set_xscale('log')\n",
    "#ax.legend(loc=4, prop={'size':8})\n",
    "\n",
    "#fig.savefig('pressures.png')"
   ]
  },
  {
   "cell_type": "code",
   "execution_count": 40,
   "metadata": {
    "collapsed": false
   },
   "outputs": [
    {
     "data": {
      "text/plain": [
       "<matplotlib.collections.PathCollection at 0x7f1dffacea10>"
      ]
     },
     "execution_count": 40,
     "metadata": {},
     "output_type": "execute_result"
    }
   ],
   "source": [
    "ax.scatter(paramsA[i]['eta1'][1], dataA[i]['pressmax'] - dataA[i]['pressmin'])"
   ]
  },
  {
   "cell_type": "code",
   "execution_count": 45,
   "metadata": {
    "collapsed": false
   },
   "outputs": [
    {
     "data": {
      "text/plain": [
       "(0    9.303622\n",
       " dtype: float64,)"
      ]
     },
     "execution_count": 45,
     "metadata": {},
     "output_type": "execute_result"
    }
   ],
   "source": [
    "dataA[4]['pressmax'] - dataA[4]['pressmin'],"
   ]
  },
  {
   "cell_type": "code",
   "execution_count": null,
   "metadata": {
    "collapsed": true
   },
   "outputs": [],
   "source": []
  }
 ],
 "metadata": {
  "kernelspec": {
   "display_name": "Python 2",
   "language": "python",
   "name": "python2"
  },
  "language_info": {
   "codemirror_mode": {
    "name": "ipython",
    "version": 2
   },
   "file_extension": ".py",
   "mimetype": "text/x-python",
   "name": "python",
   "nbconvert_exporter": "python",
   "pygments_lexer": "ipython2",
   "version": "2.7.9"
  }
 },
 "nbformat": 4,
 "nbformat_minor": 1
}
