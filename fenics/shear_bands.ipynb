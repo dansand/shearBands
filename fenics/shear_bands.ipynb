{
 "cells": [
  {
   "cell_type": "markdown",
   "metadata": {
    "deletable": true,
    "editable": true
   },
   "source": [
    "## Shear bands:\n",
    "\n",
    "This notebook explores shear band emergence. The models are based on those described in  \n",
    "\n",
    "Spiegelman, Marc, Dave A. May, and Cian R. Wilson. \"On the solvability of incompressible Stokes with viscoplastic rheologies in geodynamics.\" Geochemistry, Geophysics, Geosystems (2016).\n",
    "\t\n",
    "Kaus, Boris JP. \"Factors that control the angle of shear bands in geodynamic numerical models of brittle deformation.\" Tectonophysics 484.1 (2010): 36-47.\n",
    "\n",
    "\n",
    "Lemiale, V., et al. \"Shear banding analysis of plastic models formulated for incompressible viscous flows.\" Physics of the Earth and Planetary Interiors 171.1 (2008): 177-186.\n",
    "\n",
    "\n",
    "Moresi, L., and H-B. Mühlhaus. \"Anisotropic viscous models of large-deformation Mohr–Coulomb failure.\" Philosophical Magazine 86.21-22 (2006): 3287-3305.\n",
    "    \n",
    "    \n",
    "## Scaling\n",
    "\n",
    "For this problem, \n",
    "\n",
    "* we scale velocities by $U_0$, the imposed boundary velocity  (m/s)\n",
    "* viscosities by $10^{22}$ Pa s, and \n",
    "* stresses/pressures by $\\eta_0 U_0/H$, where H is the layer depth (m). \n",
    "\n",
    "### NOTES"
   ]
  },
  {
   "cell_type": "code",
   "execution_count": null,
   "metadata": {
    "collapsed": true,
    "deletable": true,
    "editable": true
   },
   "outputs": [],
   "source": []
  },
  {
   "cell_type": "code",
   "execution_count": 81,
   "metadata": {
    "collapsed": false,
    "deletable": true,
    "editable": true
   },
   "outputs": [],
   "source": [
    "from __future__ import division\n",
    "from dolfin import *\n",
    "import math\n",
    "import numpy as np\n",
    "import sys\n",
    "import os\n",
    "\n",
    "\n",
    "#!sudo pip2.7 install easydict\n",
    "from easydict import EasyDict as edict\n",
    "\n",
    "%matplotlib inline"
   ]
  },
  {
   "cell_type": "code",
   "execution_count": 82,
   "metadata": {
    "collapsed": true,
    "deletable": true,
    "editable": true
   },
   "outputs": [],
   "source": [
    "from mpi4py import MPI\n",
    "comm = MPI.COMM_WORLD\n",
    "rank = comm.Get_rank()"
   ]
  },
  {
   "cell_type": "code",
   "execution_count": 83,
   "metadata": {
    "collapsed": false,
    "deletable": true,
    "editable": true
   },
   "outputs": [
    {
     "name": "stdout",
     "output_type": "stream",
     "text": [
      "(True, False)\n",
      "(True, True)\n"
     ]
    }
   ],
   "source": [
    "print(has_linear_algebra_backend(\"PETSc\"), has_linear_algebra_backend(\"Tpetra\"))\n",
    "print(has_krylov_solver_preconditioner(\"amg\"), has_krylov_solver_method(\"minres\"))"
   ]
  },
  {
   "cell_type": "code",
   "execution_count": null,
   "metadata": {
    "collapsed": false,
    "deletable": true,
    "editable": true
   },
   "outputs": [],
   "source": []
  },
  {
   "cell_type": "code",
   "execution_count": 84,
   "metadata": {
    "collapsed": false,
    "deletable": true,
    "editable": true
   },
   "outputs": [],
   "source": [
    "############\n",
    "#Model letter and number, output directory setup\n",
    "############\n",
    "\n",
    "\n",
    "#Model letter identifier default\n",
    "Model = \"T\"\n",
    "\n",
    "#Model number identifier default:\n",
    "ModNum = 0\n",
    "\n",
    "#Any isolated letter / integer command line args are interpreted as Model/ModelNum\n",
    "\n",
    "if len(sys.argv) == 1:\n",
    "    ModNum = ModNum \n",
    "elif sys.argv[1] == '-f': #\n",
    "    ModNum = ModNum \n",
    "else:\n",
    "    for farg in sys.argv[1:]:\n",
    "        if not '=' in farg: #then Assume it's a not a paramter argument\n",
    "            try:\n",
    "                ModNum = int(farg) #try to convert everingthing to a float, else remains string\n",
    "            except ValueError:\n",
    "                Model  = farg\n",
    "\n",
    "\n",
    "outputPath = \"results\" + \"/\" +  str(Model) + \"/\" + str(ModNum) + \"/\" \n",
    "imagePath = outputPath + 'images/'\n",
    "filePath = outputPath + 'files/'\n",
    "checkpointPath = outputPath + 'checkpoint/'\n",
    "dbPath = outputPath + 'gldbs/'\n",
    "outputFile = 'results_model' + Model + '_' + str(ModNum) + '.dat'\n",
    "\n",
    "if rank==0:\n",
    "    # make directories if they don't exist\n",
    "    if not os.path.isdir(outputPath):\n",
    "        os.makedirs(outputPath)\n",
    "    if not os.path.isdir(checkpointPath):\n",
    "        os.makedirs(checkpointPath)\n",
    "    if not os.path.isdir(imagePath):\n",
    "        os.makedirs(imagePath)\n",
    "    if not os.path.isdir(dbPath):\n",
    "        os.makedirs(dbPath)\n",
    "    if not os.path.isdir(filePath):\n",
    "        os.makedirs(filePath)\n",
    "\n",
    "        \n",
    "comm.Barrier() #Barrier here so no procs run the check in the next cell too early"
   ]
  },
  {
   "cell_type": "code",
   "execution_count": 85,
   "metadata": {
    "collapsed": false,
    "deletable": true,
    "editable": true
   },
   "outputs": [],
   "source": [
    "###########\n",
    "#Store the physical parameters, scale factors and dimensionless paramters in easyDicts\n",
    "###########\n",
    "\n",
    "#dp : dimensional paramters\n",
    "dp = edict({})\n",
    "dp.depth=30*1e3                #domain depth\n",
    "dp.asthenosphere=dp.depth/4    #level from bottom of model,\n",
    "dp.eta1=1e24\n",
    "dp.eta2=1e20\n",
    "dp.etaMin=1e18\n",
    "dp.U0=0.0025/(3600*24*365)     #m/s \n",
    "dp.rho=2700.                   #kg/m3\n",
    "dp.g=9.81\n",
    "dp.cohesion=100e6              #\n",
    "dp.fa=30.                      #friction angle degrees\n",
    "dp.a=0.                        #fraction of the dynamic pressure to include in the yield function\n",
    "dp.notchWidth = dp.depth/16.\n",
    "\n",
    "\n",
    "\n",
    "#md : Modelling choices and Physics switches\n",
    "md = edict({})        \n",
    "md.refineMesh=False\n",
    "md.stickyAir=False\n",
    "md.aspectRatio=4.\n",
    "md.res=32\n",
    "md.ppc=25\n",
    "md.tol=1e-10\n",
    "md.maxIts=50\n",
    "md.perturb=0 # 0 for material heterogeneity, 1 for cohesion weakening\n",
    "\n",
    "###########\n",
    "#If command line args are given, overwrite\n",
    "#Note that this assumes that params as commans line args/\n",
    "#only append to the 'dimensional' and 'model' dictionary (not the non-dimensional)\n",
    "###########    \n",
    "\n",
    "\n",
    "###########\n",
    "#If extra arguments are provided to the script\" eg:\n",
    "### >>> uw.py 2 dp.arg1=1 dp.arg2=foo dp.arg3=3.0\n",
    "###\n",
    "###This would assign ModNum = 2, all other values go into the dp dictionary, under key names provided\n",
    "###\n",
    "###Two operators are searched for, = & *=\n",
    "###\n",
    "###If =, parameter is re-assigned to givn value\n",
    "###If *=, parameter is multipled by given value\n",
    "###\n",
    "### >>> uw.py 2 dp.arg1=1 dp.arg2=foo dp.arg3*=3.0\n",
    "###########\n",
    "\n",
    "for farg in sys.argv[1:]:\n",
    "    try:\n",
    "        (dicitem,val) = farg.split(\"=\") #Split on equals operator\n",
    "        (dic,arg) = dicitem.split(\".\") #colon notation\n",
    "        if '*=' in farg:\n",
    "            (dicitem,val) = farg.split(\"*=\") #If in-place multiplication, split on '*='\n",
    "            (dic,arg) = dicitem.split(\".\")\n",
    "            \n",
    "        if val == 'True': \n",
    "            val = True\n",
    "        elif val == 'False':     #First check if args are boolean\n",
    "            val = False\n",
    "        else:\n",
    "            try:\n",
    "                val = float(val) #next try to convert  to a float,\n",
    "            except ValueError:\n",
    "                pass             #otherwise leave as string\n",
    "        #Update the dictionary\n",
    "        if farg.startswith('dp'):\n",
    "            if '*=' in farg:\n",
    "                dp[arg] = dp[arg]*val #multiply parameter by given factor\n",
    "            else:\n",
    "                dp[arg] = val    #or reassign parameter by given value\n",
    "        if farg.startswith('md'):\n",
    "            if '*=' in farg:\n",
    "                md[arg] = md[arg]*val #multiply parameter by given factor\n",
    "            else:\n",
    "                md[arg] = val    #or reassign parameter by given value\n",
    "                \n",
    "    except:\n",
    "        pass\n",
    "            \n",
    "\n",
    "comm.barrier()"
   ]
  },
  {
   "cell_type": "code",
   "execution_count": 86,
   "metadata": {
    "collapsed": false,
    "deletable": true,
    "editable": true
   },
   "outputs": [],
   "source": [
    "#In this code block we map the dimensional paramters to dimensionless, through scaling factors\n",
    "\n",
    "#sf : scaling factors\n",
    "\n",
    "sf = edict({})\n",
    "sf.LS = 30*1e3\n",
    "sf.eta0 = 1e22\n",
    "sf.stress = (sf.eta0*dp.U0)/sf.LS\n",
    "sf.vel = dp.U0\n",
    "sf.density = sf.LS**3\n",
    "sf.g = dp.g\n",
    "sf.rho = (sf.eta0*dp.U0)/(sf.LS**2*dp.g)\n",
    "\n",
    "#ndp : non dimensional parameters\n",
    "ndp = edict({})\n",
    "ndp.depth = dp.depth/sf.LS\n",
    "ndp.U0 = dp.U0/sf.vel\n",
    "ndp.asthenosphere = dp.asthenosphere/sf.LS\n",
    "ndp.eta1 = dp.eta1/sf.eta0\n",
    "ndp.eta2 = dp.eta2/sf.eta0\n",
    "ndp.etaMin = dp.etaMin/sf.eta0\n",
    "ndp.cohesion = (dp.cohesion/sf.stress)*np.cos(np.radians(dp.fa))\n",
    "ndp.fa = math.sin(np.radians(dp.fa)) #friction coefficient\n",
    "ndp.g = dp.g/sf.g\n",
    "ndp.rho = dp.rho/sf.rho\n",
    "ndp.notchWidth = dp.notchWidth/sf.LS\n",
    "ndp.a = dp.a\n",
    "            "
   ]
  },
  {
   "cell_type": "code",
   "execution_count": 87,
   "metadata": {
    "collapsed": false,
    "deletable": true,
    "editable": true
   },
   "outputs": [],
   "source": [
    "# =============================================================================\n",
    "# MESH\n",
    "# =============================================================================\n",
    "\n",
    "width, height = md.aspectRatio, ndp.depth # domain width and height\n",
    "# option \"crossed\" stands for crossed diagonals (number of elements=XDIV*ZDIV*4)\n",
    "mesh = RectangleMesh(Point(-width/2., 0), Point(width/2, height), int(md.res*md.aspectRatio), md.res, \"crossed\")\n",
    "cell = triangle\n",
    "norm = FacetNormal(mesh) # definition of an outer normal\n",
    "\n",
    "ez = Constant((0, -1)) #gravity vector\n",
    "\n"
   ]
  },
  {
   "cell_type": "code",
   "execution_count": 88,
   "metadata": {
    "collapsed": false,
    "deletable": true,
    "editable": true
   },
   "outputs": [],
   "source": [
    "#from mshr import *\n",
    "#domain = Rectangle(dolfin.Point(-2., 0.), dolfin.Point(2., 1.))\n",
    "#mesh = generate_mesh(domain,120)\n",
    "#cell = triangle\n",
    "#norm = FacetNormal(mesh) # definition of an outer normal\n",
    "\n",
    "#ez = Constant((0, -1)) #gravity vector"
   ]
  },
  {
   "cell_type": "code",
   "execution_count": 89,
   "metadata": {
    "collapsed": false,
    "deletable": true,
    "editable": true
   },
   "outputs": [],
   "source": [
    "#Try loading the refined mesh from speigelman\n",
    "\n",
    "#mesh = Mesh(\"../plasticitymodels/mesh/compression_mesh_rounded_refine.xml.gz\")\n",
    "#coords = mesh.coordinates()\n",
    "#coords[:,1] += 1.\n",
    "#cell = triangle\n",
    "#norm = FacetNormal(mesh) # definition of an outer normal\n",
    "\n",
    "#ez = Constant((0, -1)) #gravity vector"
   ]
  },
  {
   "cell_type": "code",
   "execution_count": null,
   "metadata": {
    "collapsed": false,
    "deletable": true,
    "editable": true
   },
   "outputs": [],
   "source": []
  },
  {
   "cell_type": "code",
   "execution_count": 90,
   "metadata": {
    "collapsed": true,
    "deletable": true,
    "editable": true
   },
   "outputs": [],
   "source": [
    "# =============================================================================\n",
    "# Mesh refine\n",
    "# =============================================================================\n",
    "\n",
    "\n",
    "if md.refineMesh:\n",
    "\n",
    "    for i in [4.,2.]:\n",
    "        center = Point(0.0, ndp.asthenosphere)\n",
    "        radius = ndp.notchWidth * i\n",
    "\n",
    "        # Mark cells for refinement\n",
    "        markers = MeshFunction(\"bool\", mesh, mesh.topology().dim())\n",
    "        markers.set_all(False)\n",
    "        for cell in cells(mesh):\n",
    "            if (cell.midpoint().distance(center) < radius) and (cell.midpoint().y() > ndp.asthenosphere):\n",
    "                markers[cell.index()] = True\n",
    "\n",
    "        num_refinements = 1\n",
    "\n",
    "        for i in range(num_refinements):\n",
    "\n",
    "            # Refine mesh\n",
    "            mesh = refine(mesh, markers)\n"
   ]
  },
  {
   "cell_type": "markdown",
   "metadata": {
    "deletable": true,
    "editable": true
   },
   "source": [
    "\n",
    "center = 0.\n",
    "sig = ndp.notchWidth\n",
    "\n",
    "\n",
    "# Mark cells for refinement\n",
    "markers = MeshFunction(\"bool\", mesh, mesh.topology().dim())\n",
    "markers.set_all(False)\n",
    "for c in cells(mesh):\n",
    "    x = c.midpoint().x()    \n",
    "    fVal = ndp.notchWidth*math.exp(-1.*(x - center)**2/(2 * sig**2)) + ndp.asthenosphere\n",
    "    \n",
    "    if np.abs(fVal - c.midpoint().y()) < 0.01:\n",
    "        markers[c] = True\n",
    "    else:\n",
    "        markers[c] = False\n",
    "\n",
    "\n",
    "class MyExpression1(Expression):\n",
    "    def eval(self, value, x):\n",
    "        \"Set value[0] to value at point x\"\n",
    "        value[0] = ndp.notchWidth*math.exp(-1.*(x[0] - center)**2.0/(2.0 * sig**2.0)) + ndp.asthenosphere\n"
   ]
  },
  {
   "cell_type": "code",
   "execution_count": null,
   "metadata": {
    "collapsed": false,
    "deletable": true,
    "editable": true
   },
   "outputs": [],
   "source": []
  },
  {
   "cell_type": "code",
   "execution_count": 91,
   "metadata": {
    "collapsed": false,
    "deletable": true,
    "editable": true
   },
   "outputs": [],
   "source": [
    "File('mesh.pvd') << mesh"
   ]
  },
  {
   "cell_type": "code",
   "execution_count": 92,
   "metadata": {
    "collapsed": true,
    "deletable": true,
    "editable": true
   },
   "outputs": [],
   "source": [
    "#%pylab inline\n",
    "\n",
    "#coords = mesh.coordinates()\n",
    "#triplot(coords[:,0], coords[:,1], triangles=mesh.cells())\n",
    "#print mesh.num_cells()"
   ]
  },
  {
   "cell_type": "code",
   "execution_count": 93,
   "metadata": {
    "collapsed": false,
    "deletable": true,
    "editable": true
   },
   "outputs": [],
   "source": [
    "# =============================================================================\n",
    "# Define function spaces\n",
    "# =============================================================================\n",
    "\n",
    "# Taylor-Hood elements: linear Lagrange elements for pressure\n",
    "# and quadratic Lagrange elements for velocity\n",
    "\n",
    "\n",
    "V = VectorElement(\"Lagrange\", mesh.ufl_cell(), 2)\n",
    "P = FiniteElement(\"Lagrange\", mesh.ufl_cell(), 1)\n",
    "\n",
    "TH = V * P\n",
    "W = FunctionSpace(mesh, TH)"
   ]
  },
  {
   "cell_type": "code",
   "execution_count": 94,
   "metadata": {
    "collapsed": false,
    "deletable": true,
    "editable": true
   },
   "outputs": [],
   "source": [
    "# Define variational problem\n",
    "\n",
    "(u , p) = TrialFunctions(W)\n",
    "\n",
    "\n",
    "(v , q)= TestFunctions(W)\n",
    "\n"
   ]
  },
  {
   "cell_type": "code",
   "execution_count": 95,
   "metadata": {
    "collapsed": false,
    "deletable": true,
    "editable": true
   },
   "outputs": [],
   "source": [
    "# =============================================================================\n",
    "# INITIAL CONDITIONS - & Material distribution\n",
    "# =============================================================================\n",
    "u_init = Expression((\"0\", \"0\",\"0\"), degree=2) # zero\n",
    "\n",
    "\n",
    "#Pressure  split. zero density in Stokes, \n",
    "density=Constant(0.)\n",
    "\n",
    "class lithPressureFn(Expression):\n",
    "    def eval(self, value, x):\n",
    "        value[0] = ndp.rho* (1. - x[1])"
   ]
  },
  {
   "cell_type": "code",
   "execution_count": 96,
   "metadata": {
    "collapsed": false,
    "deletable": true,
    "editable": true
   },
   "outputs": [],
   "source": [
    "lithPressure = lithPressureFn(degree=1)"
   ]
  },
  {
   "cell_type": "code",
   "execution_count": null,
   "metadata": {
    "collapsed": false,
    "deletable": true,
    "editable": true
   },
   "outputs": [],
   "source": []
  },
  {
   "cell_type": "code",
   "execution_count": 97,
   "metadata": {
    "collapsed": false,
    "deletable": true,
    "editable": true
   },
   "outputs": [],
   "source": [
    "# =============================================================================\n",
    "# BOUNDARY CONDITIONS\n",
    "# =============================================================================\n",
    "\n",
    "# Define boundaries\n",
    "def left(x):\n",
    "    return near(x[0], -2)\n",
    "\n",
    "def right(x):\n",
    "    return near(x[0], 2)\n",
    "\n",
    "\n",
    "def bottom(x):\n",
    "    return near(x[1], 0)\n",
    "\n",
    "def top(x):\n",
    "    return near(x[1], 1)\n",
    "\n",
    "\n",
    "noslip = Constant((0, 0))\n",
    "freeslip = Constant(0)\n",
    "leftBC = Constant((1.0, 0))\n",
    "rightBC = Constant((-1.0, 0))\n",
    "\n",
    "#W.sub(1) ~ Pressure DoFs\n",
    "#W.sub(0) ~ Vel DoFs\n",
    "\n",
    "\n",
    "bc_v_bot = DirichletBC(W.sub(0).sub(1), freeslip, bottom)\n",
    "bc_v_left = DirichletBC(W.sub(0), leftBC, left)\n",
    "bc_v_right = DirichletBC(W.sub(0), rightBC,right)\n",
    "\n",
    "\n",
    "# fixing the pressure at the top boundary\n",
    "\n",
    "bc_p = DirichletBC(W.sub(1),\n",
    "                    Expression(\"0\", degree=1),\n",
    "                    \"near(x[0],0) && near(x[1],0)\",\n",
    "                    method=\"pointwise\")\n",
    "\n",
    "\n",
    "# collection of BCs for mechanical part of the problem\n",
    "bcs_W = [bc_p, bc_v_bot, bc_v_left, bc_v_right]"
   ]
  },
  {
   "cell_type": "code",
   "execution_count": null,
   "metadata": {
    "collapsed": false,
    "deletable": true,
    "editable": true
   },
   "outputs": [],
   "source": []
  },
  {
   "cell_type": "code",
   "execution_count": 98,
   "metadata": {
    "collapsed": false,
    "deletable": true,
    "editable": true
   },
   "outputs": [
    {
     "data": {
      "text/plain": [
       "(100.0, 0.01)"
      ]
     },
     "execution_count": 98,
     "metadata": {},
     "output_type": "execute_result"
    }
   ],
   "source": [
    "# =============================================================================\n",
    "# Rheology\n",
    "# =============================================================================\n",
    "\n",
    "\n",
    "class Eta(Expression):\n",
    "    def set_eta_values(self, eta_1, eta_2):\n",
    "        self.eta_1, self.eta_2 = eta_1, eta_2\n",
    "    def eval(self, value, x):\n",
    "        \"Set value[0] to value at point x\"\n",
    "        \n",
    "        #circle1 = np.dot(x[0] - cCentre[0], x[0] - cCentre[0]) +   np.dot( x[1] - cCentre[1], x[1] - cCentre[1])\n",
    "        mu = ndp.notchWidth\n",
    "        sig =  0.25*ndp.notchWidth\n",
    "        gausFn1 = ndp.notchWidth*math.exp(-1.*(x[0] - mu)**2/(2 * sig**2)) + ndp.asthenosphere\n",
    "\n",
    "        gausFn2 = ndp.notchWidth*math.exp(-1.*(x[0] + mu)**2/(2 * sig**2)) + ndp.asthenosphere\n",
    "        \n",
    "        if (x[1] <= ndp.asthenosphere):\n",
    "            value[0] = self.eta_2\n",
    "        \n",
    "        elif (x[1] <= ndp.asthenosphere + ndp.notchWidth) and (x[0] < ndp.notchWidth) and (x[0] > -1.*ndp.notchWidth):\n",
    "            value[0] = self.eta_2\n",
    "        \n",
    "        elif x[1] <= gausFn1:\n",
    "            value[0] = self.eta_2\n",
    "        elif x[1] <= gausFn2:\n",
    "            value[0] = self.eta_2\n",
    "\n",
    "        else:\n",
    "            value[0] = self.eta_1\n",
    "    \n",
    "            \n",
    "            \n",
    "# Initialize Eta - viscosity\n",
    "etaExpr = Eta(degree=1)\n",
    "etaExpr.set_eta_values(ndp.eta1, ndp.eta2)\n",
    "etaExpr.eta_1, etaExpr.eta_2"
   ]
  },
  {
   "cell_type": "code",
   "execution_count": 99,
   "metadata": {
    "collapsed": false,
    "deletable": true,
    "editable": true
   },
   "outputs": [],
   "source": [
    "def eijeij(u):\n",
    "    \"\"\"calculate second invariant of the strainrate tensor\"\"\"\n",
    "    return sqrt(0.5*(inner(sym(nabla_grad(u)), sym(nabla_grad(u)))))\n",
    "\n",
    "def viscosity(w):\n",
    "    \n",
    "    u, p = w.split()\n",
    "    \n",
    "    viscosityl = ndp.eta1\n",
    "    \n",
    "    yStress = ndp.cohesion + ndp.fa*(lithPressure + ndp.a*p ) \n",
    "    \n",
    "    viscosityp =  yStress/(2.*(eijeij(u) + 1e-10))\n",
    "    return 1./(1./etaExpr + 1./viscosityp)\n",
    " \n",
    "    \n",
    "#our viscosity function will return a Fenics /UFl Exprssion\n",
    "#the expression must be projected to a finite element space before we can visualize it:    \n"
   ]
  },
  {
   "cell_type": "code",
   "execution_count": 100,
   "metadata": {
    "collapsed": false,
    "deletable": true,
    "editable": true
   },
   "outputs": [
    {
     "data": {
      "text/plain": [
       "<matplotlib.tri.tricontour.TriContourSet at 0x7f184ca06810>"
      ]
     },
     "execution_count": 100,
     "metadata": {},
     "output_type": "execute_result"
    },
    {
     "data": {
      "image/png": "[encoded data removed]",
      "text/plain": [
       "<matplotlib.figure.Figure at 0x7f184cd31e50>"
      ]
     },
     "metadata": {},
     "output_type": "display_data"
    }
   ],
   "source": [
    "# =============================================================================\n",
    "# Plotting expressions\n",
    "# =============================================================================\n",
    "\n",
    "\n",
    "X = FunctionSpace(mesh, P)\n",
    "\n",
    "f = Function(X)\n",
    "f.interpolate(etaExpr)\n",
    "plot(f )"
   ]
  },
  {
   "cell_type": "code",
   "execution_count": 101,
   "metadata": {
    "collapsed": false,
    "deletable": true,
    "editable": true
   },
   "outputs": [],
   "source": [
    "File('visc.pvd') << f"
   ]
  },
  {
   "cell_type": "code",
   "execution_count": 102,
   "metadata": {
    "collapsed": true,
    "deletable": true,
    "editable": true
   },
   "outputs": [],
   "source": [
    "# =============================================================================\n",
    "# Functions to solve\n",
    "# =============================================================================\n",
    "\n",
    "w = Function(W)\n",
    "\n",
    "\n",
    "u_k = Function(W)\n",
    "u_k.interpolate(u_init)\n",
    "\n",
    "\n",
    "\n",
    "u_t = Function(W) #function to test different solutions\n",
    "\n",
    "\n",
    "#some function spaces to project expressions on\n",
    "V1 = FunctionSpace(mesh, 'P', 1)\n",
    "V2 = FunctionSpace(mesh, 'P', 2)"
   ]
  },
  {
   "cell_type": "code",
   "execution_count": 103,
   "metadata": {
    "collapsed": false,
    "deletable": true,
    "editable": true
   },
   "outputs": [
    {
     "name": "stdout",
     "output_type": "stream",
     "text": [
      "(668.06529789297554, 1.0, 9.7605349539149362)\n",
      "(657.25313530448454, 19.231537588065631, 0.56146171511256615)\n"
     ]
    }
   ],
   "source": [
    "# =============================================================================\n",
    "# Picard loop\n",
    "# =============================================================================\n",
    "\n",
    "#import numpy as np\n",
    "\n",
    "#w = Function(W)\n",
    "#u_k = Function(W)  \n",
    "#u_k.interpolate(u_init)\n",
    "tol = 0.0001\n",
    "maxIts = 2\n",
    "\n",
    "for i in range(maxIts):\n",
    "    \n",
    "    #a = 2.*viscosity(u_k)*inner(grad(v), grad(omega))*dx \\\n",
    "    #- p*div(omega)*dx \\\n",
    "    #+ div(v)*phi*dx\n",
    "    \n",
    "    \n",
    "    #bv = (inner(sym(grad(v_t)), 2.*eta_n*sym(grad(v_a))) - div(v_t)*p_a - inner(v_t,f_i)/L2h2)\n",
    "    #bp = -p_t*div(v_a)\n",
    "\n",
    "    \n",
    "    bv = (inner(sym(grad(v)), 2.*viscosity(u_k)*sym(grad(u))) - div(v)*p)\n",
    "    bp = -q*div(u)\n",
    "    rv = bv*dx\n",
    "    rp = bp*dx\n",
    "\n",
    "    a = rv + rp\n",
    "\n",
    "    L = density*inner(ez, v)*dx\n",
    "\n",
    "    solve(a == L, w, bcs_W)\n",
    "\n",
    "    diff = w.vector().array() - u_k.vector().array()\n",
    "    eps = np.linalg.norm(diff, ord=np.Inf)\n",
    "    \n",
    "    vL2 = np.linalg.norm(w.vector().array(), ord=np.Inf)\n",
    "    eps2 = eps/vL2\n",
    "    \n",
    "    #Non linear residual?\n",
    "    test = assemble(action(a, w) - L)\n",
    "    #test.array()\n",
    "    res = np.linalg.norm(test.array(), ord=np.Inf)\n",
    "    \n",
    "    \n",
    "    print (eps, eps2, res)\n",
    "\n",
    "    u_k.assign(w)\n",
    "    \n",
    "    if eps2 < tol:\n",
    "        break\n"
   ]
  },
  {
   "cell_type": "code",
   "execution_count": 104,
   "metadata": {
    "collapsed": false,
    "deletable": true,
    "editable": true
   },
   "outputs": [],
   "source": [
    "current = w.copy()"
   ]
  },
  {
   "cell_type": "code",
   "execution_count": 105,
   "metadata": {
    "collapsed": false,
    "deletable": true,
    "editable": true
   },
   "outputs": [],
   "source": [
    "u, p = w.split(deepcopy=True) "
   ]
  },
  {
   "cell_type": "code",
   "execution_count": 106,
   "metadata": {
    "collapsed": false,
    "deletable": true,
    "editable": true
   },
   "outputs": [
    {
     "name": "stdout",
     "output_type": "stream",
     "text": [
      "Norm of velocity coefficient vector: 142.531985173635\n",
      "Norm of pressure coefficient vector: 706.703832381586\n"
     ]
    }
   ],
   "source": [
    "print(\"Norm of velocity coefficient vector: %.15g\" % u.vector().norm(\"l2\"))\n",
    "print(\"Norm of pressure coefficient vector: %.15g\" % p.vector().norm(\"l2\"))"
   ]
  },
  {
   "cell_type": "code",
   "execution_count": 107,
   "metadata": {
    "collapsed": false,
    "deletable": true,
    "editable": true
   },
   "outputs": [
    {
     "data": {
      "text/plain": [
       "<matplotlib.tri.tricontour.TriContourSet at 0x7f184c8ad7d0>"
      ]
     },
     "execution_count": 107,
     "metadata": {},
     "output_type": "execute_result"
    },
    {
     "data": {
      "image/png": "[encoded data removed]",
      "text/plain": [
       "<matplotlib.figure.Figure at 0x7f184cc03ed0>"
      ]
     },
     "metadata": {},
     "output_type": "display_data"
    }
   ],
   "source": [
    "\n",
    "eij =  sqrt(0.5*(inner(sym(nabla_grad(u)), sym(nabla_grad(u)))))\n",
    "eijFEM = project(eij , V1)\n",
    "plot(eij , interactive=True, scalarbar = True ) "
   ]
  },
  {
   "cell_type": "code",
   "execution_count": null,
   "metadata": {
    "collapsed": false
   },
   "outputs": [],
   "source": []
  },
  {
   "cell_type": "code",
   "execution_count": null,
   "metadata": {
    "collapsed": true
   },
   "outputs": [],
   "source": []
  },
  {
   "cell_type": "code",
   "execution_count": null,
   "metadata": {
    "collapsed": true
   },
   "outputs": [],
   "source": []
  },
  {
   "cell_type": "code",
   "execution_count": 108,
   "metadata": {
    "collapsed": false,
    "deletable": true,
    "editable": true
   },
   "outputs": [],
   "source": [
    "File('u.pvd') << u\n",
    "File('p.pvd') << p\n",
    "File('eij.pvd') << eijFEM"
   ]
  },
  {
   "cell_type": "code",
   "execution_count": 109,
   "metadata": {
    "collapsed": false,
    "deletable": true,
    "editable": true
   },
   "outputs": [],
   "source": [
    "# =============================================================================\n",
    "# Newton loop\n",
    "# =============================================================================\n",
    "\n",
    "\n",
    "# Define solution functions - current solution\n",
    "w = Function(W)\n",
    "u, p = split(w)\n",
    "\n",
    "\n",
    "bv = (inner(sym(grad(v)), 2.*viscosity(w)*sym(grad(u))) - div(v)*p - density*inner(ez, v))\n",
    "#bv = (inner(sym(grad(v)), 2.*viscosity(w)*sym(grad(u))) - div(v)*p)\n",
    "bp = -q*div(u)\n",
    "\n",
    "rv = bv*dx\n",
    "rp = bp*dx\n",
    "F = rv + rp\n",
    "\n",
    "J_W = derivative(F, w)\n",
    "# create nonlinear problem\n",
    "problem_W = NonlinearVariationalProblem(F, w, bcs_W, J_W)\n",
    "solver_W = NonlinearVariationalSolver(problem_W)\n",
    "solver_W.parameters['newton_solver']['krylov_solver']['monitor_convergence'] = True\n",
    "solver_W.parameters['newton_solver']['krylov_solver']['report'] = True\n",
    "\n",
    "prm = solver_W.parameters\n",
    "# Newton solver parameters (mechanical part of the problem)\n",
    "prm[\"newton_solver\"][\"relative_tolerance\"] = 1E-7\n",
    "#prm[\"newton_solver\"][\"absolute_tolerance\"] = 1E-11\n",
    "prm[\"newton_solver\"][\"maximum_iterations\"] = 2\n",
    "prm[\"newton_solver\"][\"relaxation_parameter\"] = 1.0\n",
    "#prm[\"newton_solver\"][\"convergence_criterion\"] = 'incremental'\n",
    "prm[\"newton_solver\"][\"convergence_criterion\"] = \"residual\"\n",
    "prm[\"newton_solver\"][\"linear_solver\"] = \"mumps\"\n",
    "set_log_level(PROGRESS)\n",
    "#set_log_level(DBG)"
   ]
  },
  {
   "cell_type": "code",
   "execution_count": 110,
   "metadata": {
    "collapsed": false,
    "deletable": true,
    "editable": true
   },
   "outputs": [],
   "source": [
    "# initializing velocity-pressure from the Picard solution \n",
    "w.interpolate(current)\n"
   ]
  },
  {
   "cell_type": "code",
   "execution_count": 127,
   "metadata": {
    "collapsed": false
   },
   "outputs": [],
   "source": [
    "#Some options to set an iterative Krylov method instead if direct, none of this tested, just here for future\n",
    "#https://github.com/MiroK/fenics-qa/blob/master/test121.py\n",
    "\n",
    "\n",
    "\n",
    "#prec = \"amg\" if has_krylov_solver_preconditioner(\"amg\") else \"default\"\n",
    "#prec = 'jacobi' if 'jacobi' in zip(*krylov_solver_preconditioners())[0] else 'ilu'\n",
    "\n",
    "\n",
    "#prm['newton_solver']['linear_solver'] = 'gmres'\n",
    "#prm['newton_solver']['preconditioner'] = prec\n",
    "#prm['newton_solver']['krylov_solver']['absolute_tolerance'] = 1E-9\n",
    "#prm['newton_solver']['krylov_solver']['relative_tolerance'] = 1E-7\n",
    "#prm['newton_solver']['krylov_solver']['maximum_iterations'] = 1000\n",
    "#prm['newton_solver']['krylov_solver']['monitor_convergence'] = True\n",
    "#prm['newton_solver']['krylov_solver']['nonzero_initial_guess'] = False\n"
   ]
  },
  {
   "cell_type": "code",
   "execution_count": 116,
   "metadata": {
    "collapsed": false,
    "deletable": true,
    "editable": true
   },
   "outputs": [
    {
     "ename": "RuntimeError",
     "evalue": "\n\n*** -------------------------------------------------------------------------\n*** DOLFIN encountered an error. If you are not able to resolve this issue\n*** using the information listed below, you can ask for help at\n***\n***     fenics-support@googlegroups.com\n***\n*** Remember to include the error message listed below and, if possible,\n*** include a *minimal* running example to reproduce the error.\n***\n*** -------------------------------------------------------------------------\n*** Error:   Unable to solve nonlinear system with NewtonSolver.\n*** Reason:  Newton solver did not converge because maximum number of iterations reached.\n*** Where:   This error was encountered inside NewtonSolver.cpp.\n*** Process: 0\n*** \n*** DOLFIN version: 2016.2.0\n*** Git changeset:  0f003bc07ee5fd583fb956245016d5972b80fea1\n*** -------------------------------------------------------------------------\n",
     "output_type": "error",
     "traceback": [
      "\u001b[0;31m\u001b[0m",
      "\u001b[0;31mRuntimeError\u001b[0mTraceback (most recent call last)",
      "\u001b[0;32m<ipython-input-116-903bd47c3e16>\u001b[0m in \u001b[0;36m<module>\u001b[0;34m()\u001b[0m\n\u001b[1;32m      1\u001b[0m \u001b[0;31m#info(\"Solve momentum equation\")\u001b[0m\u001b[0;34m\u001b[0m\u001b[0;34m\u001b[0m\u001b[0m\n\u001b[0;32m----> 2\u001b[0;31m \u001b[0msolver_W\u001b[0m\u001b[0;34m.\u001b[0m\u001b[0msolve\u001b[0m\u001b[0;34m(\u001b[0m\u001b[0;34m)\u001b[0m\u001b[0;34m\u001b[0m\u001b[0m\n\u001b[0m",
      "\u001b[0;31mRuntimeError\u001b[0m: \n\n*** -------------------------------------------------------------------------\n*** DOLFIN encountered an error. If you are not able to resolve this issue\n*** using the information listed below, you can ask for help at\n***\n***     fenics-support@googlegroups.com\n***\n*** Remember to include the error message listed below and, if possible,\n*** include a *minimal* running example to reproduce the error.\n***\n*** -------------------------------------------------------------------------\n*** Error:   Unable to solve nonlinear system with NewtonSolver.\n*** Reason:  Newton solver did not converge because maximum number of iterations reached.\n*** Where:   This error was encountered inside NewtonSolver.cpp.\n*** Process: 0\n*** \n*** DOLFIN version: 2016.2.0\n*** Git changeset:  0f003bc07ee5fd583fb956245016d5972b80fea1\n*** -------------------------------------------------------------------------\n"
     ]
    }
   ],
   "source": [
    "#info(\"Solve momentum equation\")\n",
    "solver_W.solve()"
   ]
  },
  {
   "cell_type": "code",
   "execution_count": 117,
   "metadata": {
    "collapsed": false,
    "deletable": true,
    "editable": true
   },
   "outputs": [],
   "source": [
    "#test = \n",
    "#solver_W.parameters['newton_solver']['krylov_solver']['monitor_convergence']\n",
    "#solver_W.__"
   ]
  },
  {
   "cell_type": "code",
   "execution_count": 118,
   "metadata": {
    "collapsed": false,
    "deletable": true,
    "editable": true
   },
   "outputs": [],
   "source": [
    "#prm_W['newton_solver']['krylov_solver']['absolute_tolerance']"
   ]
  },
  {
   "cell_type": "code",
   "execution_count": 119,
   "metadata": {
    "collapsed": false,
    "deletable": true,
    "editable": true
   },
   "outputs": [
    {
     "name": "stdout",
     "output_type": "stream",
     "text": [
      "nan\n"
     ]
    }
   ],
   "source": [
    "# =============================================================================\n",
    "# Non linear residual\n",
    "# =============================================================================\n",
    "\n",
    "b = assemble(F)    # Residual\n",
    "x = w.vector()\n",
    "\n",
    "for bc in bcs_W:\n",
    "    bc.apply(b, x)\n",
    "        \n",
    "res_norm = b.norm('l2')\n",
    "\n",
    "# Log output\n",
    "print(res_norm)"
   ]
  },
  {
   "cell_type": "code",
   "execution_count": 120,
   "metadata": {
    "collapsed": true,
    "deletable": true,
    "editable": true
   },
   "outputs": [],
   "source": [
    "# =============================================================================\n",
    "# Figures tc\n",
    "# ============================================================================="
   ]
  },
  {
   "cell_type": "code",
   "execution_count": 121,
   "metadata": {
    "collapsed": true,
    "deletable": true,
    "editable": true
   },
   "outputs": [],
   "source": [
    "u, p = w.split(deepcopy=True) "
   ]
  },
  {
   "cell_type": "code",
   "execution_count": 122,
   "metadata": {
    "collapsed": false,
    "deletable": true,
    "editable": true
   },
   "outputs": [
    {
     "data": {
      "text/plain": [
       "<matplotlib.tri.tricontour.TriContourSet at 0x7f184c79c690>"
      ]
     },
     "execution_count": 122,
     "metadata": {},
     "output_type": "execute_result"
    },
    {
     "data": {
      "image/png": "[encoded data removed]",
      "text/plain": [
       "<matplotlib.figure.Figure at 0x7f18517cb450>"
      ]
     },
     "metadata": {},
     "output_type": "display_data"
    }
   ],
   "source": [
    "eij =  sqrt(0.5*(inner(sym(nabla_grad(u)), sym(nabla_grad(u)))))\n",
    "eijFEM = project(eij , V1)\n",
    "plot(eij , interactive=True, scalarbar = True ) "
   ]
  },
  {
   "cell_type": "code",
   "execution_count": 72,
   "metadata": {
    "collapsed": false,
    "deletable": true,
    "editable": true
   },
   "outputs": [],
   "source": [
    "File('u.pvd') << u\n",
    "File('p.pvd') << p\n",
    "File('eij.pvd') << eijFEM"
   ]
  },
  {
   "cell_type": "code",
   "execution_count": null,
   "metadata": {
    "collapsed": false,
    "deletable": true,
    "editable": true
   },
   "outputs": [],
   "source": [
    "\n"
   ]
  },
  {
   "cell_type": "markdown",
   "metadata": {
    "collapsed": false,
    "deletable": true,
    "editable": true
   },
   "source": [
    "uvals = eijFEM.vector().array()\n",
    "xyvals = mesh.coordinates()\n",
    "#xyvals = dofs_x\n",
    "xvals = xyvals[:,0]\n",
    "yvals= xyvals[:,1]\n",
    "\n",
    "xx = np.linspace(-2,2, 100)\n",
    "yy = np.linspace(0,1, 25)\n",
    "\n",
    "XX, YY = np.meshgrid(xx,yy)\n",
    "\n",
    "\n",
    "from scipy.interpolate import griddata\n",
    "uu = griddata(np.column_stack((xvals, yvals)), uvals, np.dstack((XX, XX)))\n",
    "\n",
    "uvals = eijFEM.vector().array()\n",
    "xyvals = mesh.coordinates()\n",
    "#xyvals = dofs_x\n",
    "xvals = xyvals[:,0]\n",
    "yvals= xyvals[:,1]\n",
    "\n",
    "xx = np.linspace(-2,2, 100)\n",
    "yy = np.linspace(0,1, 25)\n",
    "\n",
    "XX, YY = np.meshgrid(xx,yy)\n"
   ]
  },
  {
   "cell_type": "code",
   "execution_count": 73,
   "metadata": {
    "collapsed": false,
    "deletable": true,
    "editable": true
   },
   "outputs": [
    {
     "ename": "AttributeError",
     "evalue": "'module' object has no attribute 'homogenize'",
     "output_type": "error",
     "traceback": [
      "\u001b[0;31m\u001b[0m",
      "\u001b[0;31mAttributeError\u001b[0mTraceback (most recent call last)",
      "\u001b[0;32m<ipython-input-73-8d0d965b68e5>\u001b[0m in \u001b[0;36m<module>\u001b[0;34m()\u001b[0m\n\u001b[1;32m      1\u001b[0m \u001b[0;31m#\u001b[0m\u001b[0;34m\u001b[0m\u001b[0;34m\u001b[0m\u001b[0m\n\u001b[0;32m----> 2\u001b[0;31m \u001b[0mdolfin\u001b[0m\u001b[0;34m.\u001b[0m\u001b[0mfem\u001b[0m\u001b[0;34m.\u001b[0m\u001b[0mbcs\u001b[0m\u001b[0;34m.\u001b[0m\u001b[0mhomogenize\u001b[0m\u001b[0;34m(\u001b[0m\u001b[0mbc\u001b[0m\u001b[0;34m)\u001b[0m\u001b[0;34m\u001b[0m\u001b[0m\n\u001b[0m",
      "\u001b[0;31mAttributeError\u001b[0m: 'module' object has no attribute 'homogenize'"
     ]
    }
   ],
   "source": [
    "#\n",
    "dolfin.fem.bcs.homogenize(bc)"
   ]
  },
  {
   "cell_type": "markdown",
   "metadata": {
    "deletable": true,
    "editable": true
   },
   "source": [
    "## Find shear band angle"
   ]
  },
  {
   "cell_type": "code",
   "execution_count": 33,
   "metadata": {
    "collapsed": true,
    "deletable": true,
    "editable": true
   },
   "outputs": [],
   "source": [
    "#only in serial\n"
   ]
  },
  {
   "cell_type": "markdown",
   "metadata": {
    "collapsed": true,
    "deletable": true,
    "editable": true
   },
   "source": [
    "## stash"
   ]
  },
  {
   "cell_type": "code",
   "execution_count": 31,
   "metadata": {
    "collapsed": false,
    "deletable": true,
    "editable": true
   },
   "outputs": [
    {
     "ename": "RuntimeError",
     "evalue": "\n\n*** -------------------------------------------------------------------------\n*** DOLFIN encountered an error. If you are not able to resolve this issue\n*** using the information listed below, you can ask for help at\n***\n***     fenics-support@googlegroups.com\n***\n*** Remember to include the error message listed below and, if possible,\n*** include a *minimal* running example to reproduce the error.\n***\n*** -------------------------------------------------------------------------\n*** Error:   Unable to define nonlinear variational problem F(u; v) = 0 for all v.\n*** Reason:  Expecting the Jacobian J to be a bilinear form (not rank 1).\n*** Where:   This error was encountered inside NonlinearVariationalProblem.cpp.\n*** Process: 0\n*** \n*** DOLFIN version: 2016.2.0\n*** Git changeset:  0f003bc07ee5fd583fb956245016d5972b80fea1\n*** -------------------------------------------------------------------------\n",
     "output_type": "error",
     "traceback": [
      "\u001b[0;31m\u001b[0m",
      "\u001b[0;31mRuntimeError\u001b[0mTraceback (most recent call last)",
      "\u001b[0;32m<ipython-input-31-f86ded944159>\u001b[0m in \u001b[0;36m<module>\u001b[0;34m()\u001b[0m\n\u001b[1;32m     34\u001b[0m \u001b[0;31m#J_W = derivative(F, w)\u001b[0m\u001b[0;34m\u001b[0m\u001b[0;34m\u001b[0m\u001b[0m\n\u001b[1;32m     35\u001b[0m \u001b[0;31m# create nonlinear problem\u001b[0m\u001b[0;34m\u001b[0m\u001b[0;34m\u001b[0m\u001b[0m\n\u001b[0;32m---> 36\u001b[0;31m \u001b[0mproblem_W\u001b[0m \u001b[0;34m=\u001b[0m \u001b[0mNonlinearVariationalProblem\u001b[0m\u001b[0;34m(\u001b[0m\u001b[0mF\u001b[0m\u001b[0;34m,\u001b[0m \u001b[0mw\u001b[0m\u001b[0;34m,\u001b[0m \u001b[0mbcs_W\u001b[0m\u001b[0;34m,\u001b[0m \u001b[0mJ_W\u001b[0m\u001b[0;34m)\u001b[0m\u001b[0;34m\u001b[0m\u001b[0m\n\u001b[0m\u001b[1;32m     37\u001b[0m \u001b[0msolver_W\u001b[0m \u001b[0;34m=\u001b[0m \u001b[0mNonlinearVariationalSolver\u001b[0m\u001b[0;34m(\u001b[0m\u001b[0mproblem_W\u001b[0m\u001b[0;34m)\u001b[0m\u001b[0;34m\u001b[0m\u001b[0m\n\u001b[1;32m     38\u001b[0m \u001b[0mprm_W\u001b[0m \u001b[0;34m=\u001b[0m \u001b[0msolver_W\u001b[0m\u001b[0;34m.\u001b[0m\u001b[0mparameters\u001b[0m\u001b[0;34m\u001b[0m\u001b[0m\n",
      "\u001b[0;32m/usr/local/lib/python2.7/dist-packages/dolfin/fem/solving.py\u001b[0m in \u001b[0;36m__init__\u001b[0;34m(self, F, u, bcs, J, form_compiler_parameters)\u001b[0m\n\u001b[1;32m    152\u001b[0m \u001b[0;34m\u001b[0m\u001b[0m\n\u001b[1;32m    153\u001b[0m         \u001b[0;31m# Initialize C++ base class\u001b[0m\u001b[0;34m\u001b[0m\u001b[0;34m\u001b[0m\u001b[0m\n\u001b[0;32m--> 154\u001b[0;31m         \u001b[0mcpp\u001b[0m\u001b[0;34m.\u001b[0m\u001b[0mNonlinearVariationalProblem\u001b[0m\u001b[0;34m.\u001b[0m\u001b[0m__init__\u001b[0m\u001b[0;34m(\u001b[0m\u001b[0mself\u001b[0m\u001b[0;34m,\u001b[0m \u001b[0mF\u001b[0m\u001b[0;34m,\u001b[0m \u001b[0mu\u001b[0m\u001b[0;34m,\u001b[0m \u001b[0mbcs\u001b[0m\u001b[0;34m,\u001b[0m \u001b[0mJ\u001b[0m\u001b[0;34m)\u001b[0m\u001b[0;34m\u001b[0m\u001b[0m\n\u001b[0m\u001b[1;32m    155\u001b[0m \u001b[0;34m\u001b[0m\u001b[0m\n\u001b[1;32m    156\u001b[0m \u001b[0;34m\u001b[0m\u001b[0m\n",
      "\u001b[0;32m/usr/local/lib/python2.7/dist-packages/dolfin/cpp/fem.py\u001b[0m in \u001b[0;36m__init__\u001b[0;34m(self, F, u, bcs, J)\u001b[0m\n\u001b[1;32m   2915\u001b[0m \u001b[0;34m\u001b[0m\u001b[0m\n\u001b[1;32m   2916\u001b[0m         \"\"\"\n\u001b[0;32m-> 2917\u001b[0;31m         \u001b[0m_fem\u001b[0m\u001b[0;34m.\u001b[0m\u001b[0mNonlinearVariationalProblem_swiginit\u001b[0m\u001b[0;34m(\u001b[0m\u001b[0mself\u001b[0m\u001b[0;34m,\u001b[0m \u001b[0m_fem\u001b[0m\u001b[0;34m.\u001b[0m\u001b[0mnew_NonlinearVariationalProblem\u001b[0m\u001b[0;34m(\u001b[0m\u001b[0mF\u001b[0m\u001b[0;34m,\u001b[0m \u001b[0mu\u001b[0m\u001b[0;34m,\u001b[0m \u001b[0mbcs\u001b[0m\u001b[0;34m,\u001b[0m \u001b[0mJ\u001b[0m\u001b[0;34m)\u001b[0m\u001b[0;34m)\u001b[0m\u001b[0;34m\u001b[0m\u001b[0m\n\u001b[0m\u001b[1;32m   2918\u001b[0m \u001b[0;34m\u001b[0m\u001b[0m\n\u001b[1;32m   2919\u001b[0m     \u001b[0;32mdef\u001b[0m \u001b[0mset_bounds\u001b[0m\u001b[0;34m(\u001b[0m\u001b[0mself\u001b[0m\u001b[0;34m,\u001b[0m \u001b[0;34m*\u001b[0m\u001b[0margs\u001b[0m\u001b[0;34m)\u001b[0m\u001b[0;34m:\u001b[0m\u001b[0;34m\u001b[0m\u001b[0m\n",
      "\u001b[0;31mRuntimeError\u001b[0m: \n\n*** -------------------------------------------------------------------------\n*** DOLFIN encountered an error. If you are not able to resolve this issue\n*** using the information listed below, you can ask for help at\n***\n***     fenics-support@googlegroups.com\n***\n*** Remember to include the error message listed below and, if possible,\n*** include a *minimal* running example to reproduce the error.\n***\n*** -------------------------------------------------------------------------\n*** Error:   Unable to define nonlinear variational problem F(u; v) = 0 for all v.\n*** Reason:  Expecting the Jacobian J to be a bilinear form (not rank 1).\n*** Where:   This error was encountered inside NonlinearVariationalProblem.cpp.\n*** Process: 0\n*** \n*** DOLFIN version: 2016.2.0\n*** Git changeset:  0f003bc07ee5fd583fb956245016d5972b80fea1\n*** -------------------------------------------------------------------------\n"
     ]
    }
   ],
   "source": [
    "# =============================================================================\n",
    "# Quasi-Newton loop\n",
    "# =============================================================================\n",
    "\n",
    "\n",
    "# Define solution functions - current solution\n",
    "w = Function(W)\n",
    "u, p = split(w)\n",
    "\n",
    "\n",
    "# These are for the approximate Jacobian\n",
    "w_a = Function(W)\n",
    "u_a, p_a = split(w_a)\n",
    "\n",
    "\n",
    "bv = (inner(sym(grad(v)), 2.*viscosity(w)*sym(grad(u))) - div(v)*p - density*inner(ez, v))\n",
    "#bv = (inner(sym(grad(v)), 2.*viscosity(w)*sym(grad(u))) - div(v)*p)\n",
    "bp = -q*div(u)\n",
    "\n",
    "rv = bv*dx\n",
    "rp = bp*dx\n",
    "F = rv + rp\n",
    "\n",
    "bJv = (inner(sym(grad(v)), 2.*viscosity(w_a)*sym(grad(u_a))) - div(v)*p_a )\n",
    "bJp = -q*div(u_a)\n",
    "\n",
    "Jv = bJv*dx\n",
    "Jp = bJp*dx\n",
    "\n",
    "J_W = Jv + Jp\n",
    "\n",
    "\n",
    "#J_W = derivative(F, w)\n",
    "# create nonlinear problem\n",
    "problem_W = NonlinearVariationalProblem(F, w, bcs_W, J_W)\n",
    "solver_W = NonlinearVariationalSolver(problem_W)\n",
    "prm_W = solver_W.parameters\n",
    "# Newton solver parameters (mechanical part of the problem)\n",
    "prm_W[\"newton_solver\"][\"relative_tolerance\"] = 1E-7\n",
    "#prm_W[\"newton_solver\"][\"absolute_tolerance\"] = 1E-11\n",
    "prm_W[\"newton_solver\"][\"maximum_iterations\"] = 10\n",
    "prm_W[\"newton_solver\"][\"relaxation_parameter\"] = 1.0\n",
    "#prm_W[\"newton_solver\"][\"convergence_criterion\"] = 'incremental'\n",
    "prm_W[\"newton_solver\"][\"convergence_criterion\"] = \"residual\"\n",
    "prm_W[\"newton_solver\"][\"linear_solver\"] = \"mumps\"\n",
    "set_log_level(PROGRESS)"
   ]
  }
 ],
 "metadata": {
  "kernelspec": {
   "display_name": "Python 2",
   "language": "python",
   "name": "python2"
  },
  "language_info": {
   "codemirror_mode": {
    "name": "ipython",
    "version": 2
   },
   "file_extension": ".py",
   "mimetype": "text/x-python",
   "name": "python",
   "nbconvert_exporter": "python",
   "pygments_lexer": "ipython2",
   "version": "2.7.12"
  }
 },
 "nbformat": 4,
 "nbformat_minor": 1
}
